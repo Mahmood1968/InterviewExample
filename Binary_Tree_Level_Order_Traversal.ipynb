{
 "cells": [
  {
   "cell_type": "markdown",
   "metadata": {},
   "source": [
    "### Approach 2: Iteration\n",
    "\n",
    "- Algorithm\n",
    "\n",
    "The recursion above could be rewritten in the iteration form.\n",
    "\n",
    "Let's keep nodes of each tree level in the queue structure, which typically orders elements in a FIFO (first-in-first-out) manner. In Java one could use LinkedList implementation of the Queue interface. In Python using Queue structure would be an overkill since it's designed for a safe exchange between multiple threads and hence requires locking which leads to a performance loose. In Python the queue implementation with a fast atomic append() and popleft() is deque.\n",
    "\n",
    "- The zero level contains only one node root. The algorithm is simple :\n",
    "\n",
    "- Initiate queue with a root and start from the level number 0 : level = 0.\n",
    "\n",
    "- While queue is not empty :\n",
    "\n",
    "    - Start the current level by adding an empty list into output structure levels.\n",
    "\n",
    "    - Compute how many elements should be on the current level : it's a queue length.\n",
    "\n",
    "    - Pop out all these elements from the queue and add them into the current level.\n",
    "\n",
    "    - Push their child nodes into the queue for the next level.\n",
    "\n",
    "    - Go to the next level level++."
   ]
  },
  {
   "cell_type": "code",
   "execution_count": 17,
   "metadata": {},
   "outputs": [],
   "source": [
    "from collections import deque"
   ]
  },
  {
   "cell_type": "code",
   "execution_count": 18,
   "metadata": {},
   "outputs": [],
   "source": [
    "# Definition for a binary tree node.\n",
    "class TreeNode:\n",
    "    def __init__(self, val=0, left=None, right=None):\n",
    "        self.val = val\n",
    "        self.left = left\n",
    "        self.right = right\n",
    "        \n",
    "class Solution:\n",
    "    def __init__(self, val=0, left=None, right=None):\n",
    "        self.val = val\n",
    "        self.left = left\n",
    "        self.right = right\n",
    "        \n",
    "    def levelOrder(self, root: TreeNode): # -> list[list[int]]:\n",
    "        all_levels=[]\n",
    "        if not root:\n",
    "            return all_levels\n",
    "        l=0 \n",
    "        Q=deque([root,])       \n",
    "        while Q :\n",
    "            all_levels.append([])\n",
    "            level_length=len(Q)\n",
    "            \n",
    "            for i in range(level_length):\n",
    "                node=Q.popleft()\n",
    "                all_levels[l].append(node.val)\n",
    "                \n",
    "                if node.left:\n",
    "                    Q.append(node.left)\n",
    "                if node.right:\n",
    "                    Q.append(node.right)\n",
    "            l=l+1   \n",
    "            \n",
    "        return all_levels  \n",
    "    \n",
    "    def insert(self, root,key):  \n",
    "        if root is None:  \n",
    "            return TreeNode(key)  \n",
    "        else: \n",
    "            if root.val == key: \n",
    "                return root \n",
    "            elif root.val < key:  \n",
    "                root.right = self.insert(root.right, key)  \n",
    "            else: \n",
    "                root.left = self.insert(root.left, key) \n",
    "        return root "
   ]
  },
  {
   "cell_type": "code",
   "execution_count": 19,
   "metadata": {},
   "outputs": [
    {
     "data": {
      "text/plain": [
       "<__main__.Solution at 0x2147f3f97c0>"
      ]
     },
     "execution_count": 19,
     "metadata": {},
     "output_type": "execute_result"
    }
   ],
   "source": [
    "# Driver program to test above function \n",
    "root = Solution(50)  \n",
    "root.insert(root, 30)  \n",
    "root.insert(root, 20)  \n",
    "root.insert(root, 40)  \n",
    "root.insert(root, 70)  \n",
    "root.insert(root, 60)  \n",
    "root.insert(root, 80)  "
   ]
  },
  {
   "cell_type": "code",
   "execution_count": 20,
   "metadata": {},
   "outputs": [
    {
     "name": "stdout",
     "output_type": "stream",
     "text": [
      "return its level order traversal as: = [[50], [30, 70], [20, 40, 60, 80]]\n"
     ]
    }
   ],
   "source": [
    "print(\"return its level order traversal as: =\", (root.levelOrder(root))) "
   ]
  },
  {
   "cell_type": "code",
   "execution_count": null,
   "metadata": {},
   "outputs": [],
   "source": []
  }
 ],
 "metadata": {
  "kernelspec": {
   "display_name": "Python 3",
   "language": "python",
   "name": "python3"
  },
  "language_info": {
   "codemirror_mode": {
    "name": "ipython",
    "version": 3
   },
   "file_extension": ".py",
   "mimetype": "text/x-python",
   "name": "python",
   "nbconvert_exporter": "python",
   "pygments_lexer": "ipython3",
   "version": "3.8.5"
  }
 },
 "nbformat": 4,
 "nbformat_minor": 4
}
