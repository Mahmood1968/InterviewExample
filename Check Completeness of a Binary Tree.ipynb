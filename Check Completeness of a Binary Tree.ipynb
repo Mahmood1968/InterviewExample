{
 "cells": [
  {
   "cell_type": "markdown",
   "metadata": {},
   "source": [
    "Given a binary tree, determine if it is a complete binary tree.\n",
    "\n",
    "Definition of a complete binary tree from Wikipedia:\n",
    "In a complete binary tree every level, except possibly the last, is completely filled,\n",
    "and all nodes in the last level are as far left as possible. \n",
    "It can have between 1 and 2h nodes inclusive at the last level h.\n",
    "\n",
    " \n",
    "\n",
    "Example 1:\n",
    "\n",
    "\n",
    "\n",
    "Input: [1,2,3,4,5,6]\n",
    "Output: true\n",
    "Explanation: Every level before the last is full (ie. levels with node-values {1} and {2, 3}), and all nodes in the last level ({4, 5, 6}) are as far left as possible."
   ]
  },
  {
   "cell_type": "markdown",
   "metadata": {},
   "source": [
    "## solution 1 "
   ]
  },
  {
   "cell_type": "code",
   "execution_count": 7,
   "metadata": {},
   "outputs": [],
   "source": [
    "# Definition for a binary tree node.\n",
    "# class TreeNode:\n",
    "#     def __init__(self, val=0, left=None, right=None):\n",
    "#         self.val = val\n",
    "#         self.left = left\n",
    "#         self.right = right\n",
    "class Solution:\n",
    "    def isCompleteTree(self, root: TreeNode) -> bool:\n",
    "        nodes = [(root, 1)]\n",
    "        i = 0\n",
    "        while i < len(nodes):\n",
    "            node, v = nodes[i]\n",
    "            i += 1\n",
    "            if node:\n",
    "                nodes.append((node.left, 2*v))\n",
    "                nodes.append((node.right, 2*v+1))\n",
    "\n",
    "        return  nodes[-1][1] == len(nodes)\n",
    "        "
   ]
  },
  {
   "cell_type": "markdown",
   "metadata": {},
   "source": [
    "## solution 2"
   ]
  },
  {
   "cell_type": "markdown",
   "metadata": {},
   "source": [
    " input :  [1,2,3,4,5,6]\n",
    " \n",
    " isCompletbinaryTree(root) \n",
    " 1. set left , right = root \n",
    " 2. set l_h , r_h =0 \n",
    " 3. Traverse all the way to the left while left is not None \n",
    "     incremnet the counter l_h \n",
    "     move left ponit to left using left =left.left \n",
    " 4. Traverse all the way to the right while right is not None \n",
    "      increment r_h \n",
    "      move right pointer to right using right =right.right \n",
    " 5. if l_h == r_h  return  (2^l_h) -1 \n",
    " \n",
    "    else start traverse subtrees after the root by adding one \n",
    "    \n",
    "    and recursivly call left and right (1+isCompletbinaryTree(root.left) + isCompletbinaryTree(root.right) \n",
    "       \n",
    "  "
   ]
  },
  {
   "cell_type": "code",
   "execution_count": 21,
   "metadata": {},
   "outputs": [],
   "source": [
    "#Definition for a binary tree node.\n",
    "class TreeNode(object):\n",
    "    def __init__(self, val=0, left=None, right=None):\n",
    "        self.val = val\n",
    "        self.left = left\n",
    "        self.right = right\n",
    "class Solution(object):\n",
    "    def __init__(self,root):\n",
    "        self.root=TreeNode(root)\n",
    "        \n",
    "    def isCompleteTree(self, root: TreeNode) -> bool:\n",
    "        if root==None: return 0\n",
    "        left, right= root, root \n",
    "        h_l, h_r= 0, 0 \n",
    "        while left!=None:\n",
    "            h_l+=1 \n",
    "            left=left.left\n",
    "        while right!=None:\n",
    "            h_r+=1 \n",
    "            right=right.right \n",
    "        if h_l==h_r : return (1<<h_l)-1\n",
    "        return 1+self.isCompleteTree(root.left)+self.isCompleteTree(root.right)\n",
    "            "
   ]
  },
  {
   "cell_type": "code",
   "execution_count": 24,
   "metadata": {},
   "outputs": [],
   "source": [
    "tree=Solution(1)\n",
    "tree.root.left=TreeNode(2)\n",
    "tree.root.right=TreeNode(3)\n",
    "tree.root.right.left=TreeNode(6)\n",
    "tree.root.left.left=TreeNode(4)\n",
    "tree.root.left.right=TreeNode(5)"
   ]
  },
  {
   "cell_type": "code",
   "execution_count": 25,
   "metadata": {},
   "outputs": [
    {
     "data": {
      "text/plain": [
       "6"
      ]
     },
     "execution_count": 25,
     "metadata": {},
     "output_type": "execute_result"
    }
   ],
   "source": [
    "tree.isCompleteTree(tree.root)"
   ]
  },
  {
   "cell_type": "code",
   "execution_count": null,
   "metadata": {},
   "outputs": [],
   "source": []
  }
 ],
 "metadata": {
  "kernelspec": {
   "display_name": "Python 3",
   "language": "python",
   "name": "python3"
  },
  "language_info": {
   "codemirror_mode": {
    "name": "ipython",
    "version": 3
   },
   "file_extension": ".py",
   "mimetype": "text/x-python",
   "name": "python",
   "nbconvert_exporter": "python",
   "pygments_lexer": "ipython3",
   "version": "3.8.5"
  }
 },
 "nbformat": 4,
 "nbformat_minor": 4
}
