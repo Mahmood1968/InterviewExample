{
 "cells": [
  {
   "cell_type": "code",
   "execution_count": 75,
   "metadata": {},
   "outputs": [],
   "source": [
    "# Python program to reverse a linked list \n",
    "# Time Complexity : O(n)\n",
    "# Space Complexity : O(1)\n",
    "\n",
    "# Node class \n",
    "class Node(object):\n",
    "\n",
    "    # Constructor to initialize the node object\n",
    "    def __init__(self, data):\n",
    "        self.data = data\n",
    "        self.next = None\n",
    "\n",
    "class LinkedList(object):\n",
    "\n",
    "    # Function to initialize head\n",
    "    def __init__(self):\n",
    "        self.head = None\n",
    "\n",
    "    \n",
    "    # Function to insert a new node at the beginning\n",
    "    def insert_at_begining(self, new_data):\n",
    "        new_node = Node(new_data)\n",
    "        new_node.next = self.head\n",
    "        self.head = new_node\n",
    "\n",
    "    # Utility function to print the linked LinkedList\n",
    "    def printList(self):\n",
    "        temp = self.head\n",
    "        while(temp):\n",
    "            print (temp.data,)\n",
    "            temp = temp.next\n",
    "            \n",
    "# Function to reverse the linked list\n",
    "    def reverseLinkedList_1(self):\n",
    "        prev_ptr = None\n",
    "        current_ptr = self.head\n",
    "        while(current_ptr is not None):\n",
    "            next = current_ptr.next\n",
    "            current_ptr.next = prev_ptr\n",
    "            prev_ptr = current_ptr\n",
    "            current_ptr = next\n",
    "        self.head = prev_ptr\n",
    "        \n",
    "    \n",
    "        "
   ]
  },
  {
   "cell_type": "code",
   "execution_count": 80,
   "metadata": {},
   "outputs": [],
   "source": [
    "# Driver program to test above functions\n",
    "llist = LinkedList()\n",
    "llist.insert_at_begining(20)\n",
    "llist.insert_at_begining(4)\n",
    "llist.insert_at_begining(15)\n",
    "llist.insert_at_begining(85)\n",
    "h=llist"
   ]
  },
  {
   "cell_type": "code",
   "execution_count": null,
   "metadata": {},
   "outputs": [],
   "source": [
    "print (\"Given Linked List\")\n",
    "llist.printList()\n",
    "llist.reverseLinkedList_1()\n",
    "print (\"\\nReversed Linked List\")\n",
    "llist.printList()\n",
    "\n",
    "# This code is contributed by Nikhil Kumar Singh(nickzuck_007)"
   ]
  },
  {
   "cell_type": "code",
   "execution_count": 84,
   "metadata": {},
   "outputs": [],
   "source": [
    "# Node class \n",
    "class ListNode(object):\n",
    "\n",
    "    # Constructor to initialize the node object\n",
    "    def __init__(self, data):\n",
    "        self.data = data\n",
    "        self.next = None"
   ]
  },
  {
   "cell_type": "code",
   "execution_count": 115,
   "metadata": {},
   "outputs": [],
   "source": [
    "class LinkedList(object):\n",
    "\n",
    "    # Function to initialize head\n",
    "    def __init__(self):\n",
    "        self.head = None\n",
    "        self.next=None"
   ]
  },
  {
   "cell_type": "code",
   "execution_count": 116,
   "metadata": {},
   "outputs": [],
   "source": [
    "class Solution:\n",
    "    # Function to initialize head\n",
    "    def __init__(self):\n",
    "        self.head = None\n",
    "        self.next=None\n",
    "    def reverseLinkedList(self, head, k):\n",
    "        \n",
    "        # Reverse k nodes of the given linked list.\n",
    "        # This function assumes that the list contains \n",
    "        # atleast k nodes.\n",
    "        new_head, ptr = None, head\n",
    "        while k:\n",
    "            \n",
    "            # Keep track of the next node to process in the\n",
    "            # original list\n",
    "            next_node = ptr.next\n",
    "            \n",
    "            # Insert the node pointed to by \"ptr\"\n",
    "            # at the beginning of the reversed list\n",
    "            ptr.next = new_head\n",
    "            new_head = ptr\n",
    "            \n",
    "            # Move on to the next node\n",
    "            ptr = next_node\n",
    "            \n",
    "            # Decrement the count of nodes to be reversed by 1\n",
    "            k -= 1\n",
    "        \n",
    "        # Return the head of the reversed list\n",
    "        return new_head\n",
    "                \n",
    "    \n",
    "    def reverseKGroup(self, head: ListNode, k: int) -> ListNode:\n",
    "        \n",
    "        ptr = self.head\n",
    "        ktail = None\n",
    "        \n",
    "        # Head of the final, moified linked list\n",
    "        new_head = None\n",
    "        \n",
    "        # Keep going until there are nodes in the list\n",
    "        while ptr:\n",
    "            count = 0\n",
    "            \n",
    "            # Start counting nodes from the head\n",
    "            ptr = head\n",
    "            \n",
    "            # Find the head of the next k nodes\n",
    "            while count < k and ptr:\n",
    "                ptr = ptr.next\n",
    "                count += 1\n",
    "\n",
    "            # If we counted k nodes, reverse them        \n",
    "            if count == k:\n",
    "                \n",
    "                # Reverse k nodes and get the new head\n",
    "                revHead = self.reverseLinkedList(head, k)\n",
    "                \n",
    "                # new_head is the head of the final linked list\n",
    "                if not new_head:\n",
    "                    new_head = revHead\n",
    "                \n",
    "                # ktail is the tail of the previous block of \n",
    "                # reversed k nodes\n",
    "                if ktail:\n",
    "                    ktail.next = revHead\n",
    "                    \n",
    "                ktail = head \n",
    "                head = ptr\n",
    "        \n",
    "        # attach the final, possibly un-reversed portion\n",
    "        if ktail:\n",
    "            ktail.next = head\n",
    "        \n",
    "        return new_head if new_head else head\n",
    "    \n",
    "    # Function to insert a new node at the beginning\n",
    "    def insert_at_begining(self, new_data):\n",
    "        new_node = Node(new_data)\n",
    "        new_node.next = self.head\n",
    "        self.head = new_node\n",
    "\n",
    "    # Utility function to print the linked LinkedList\n",
    "    def printList(self):\n",
    "        temp = self.head\n",
    "        while(temp):\n",
    "            print (temp.data,)\n",
    "            temp = temp.next\n",
    "            "
   ]
  },
  {
   "cell_type": "code",
   "execution_count": 117,
   "metadata": {},
   "outputs": [],
   "source": [
    "sol=Solution()"
   ]
  },
  {
   "cell_type": "code",
   "execution_count": 118,
   "metadata": {},
   "outputs": [],
   "source": [
    "# Driver program to test above functions\n",
    "llist = Solution()\n",
    "llist.insert_at_begining(20)\n",
    "llist.insert_at_begining(4)\n",
    "llist.insert_at_begining(15)\n",
    "llist.insert_at_begining(85)"
   ]
  },
  {
   "cell_type": "code",
   "execution_count": 119,
   "metadata": {},
   "outputs": [],
   "source": [
    "head=llist"
   ]
  },
  {
   "cell_type": "code",
   "execution_count": 120,
   "metadata": {},
   "outputs": [
    {
     "name": "stdout",
     "output_type": "stream",
     "text": [
      "Given Linked List\n",
      "85\n",
      "15\n",
      "4\n",
      "20\n"
     ]
    }
   ],
   "source": [
    "print (\"Given Linked List\")\n",
    "llist.printList()\n"
   ]
  },
  {
   "cell_type": "code",
   "execution_count": 123,
   "metadata": {},
   "outputs": [],
   "source": [
    "new_head=llist.reverseKGroup(head,2) "
   ]
  },
  {
   "cell_type": "code",
   "execution_count": 124,
   "metadata": {},
   "outputs": [
    {
     "name": "stdout",
     "output_type": "stream",
     "text": [
      "85\n",
      "15\n",
      "4\n",
      "20\n"
     ]
    }
   ],
   "source": [
    "new_head.printList()"
   ]
  },
  {
   "cell_type": "code",
   "execution_count": null,
   "metadata": {},
   "outputs": [],
   "source": []
  }
 ],
 "metadata": {
  "kernelspec": {
   "display_name": "Python 3",
   "language": "python",
   "name": "python3"
  },
  "language_info": {
   "codemirror_mode": {
    "name": "ipython",
    "version": 3
   },
   "file_extension": ".py",
   "mimetype": "text/x-python",
   "name": "python",
   "nbconvert_exporter": "python",
   "pygments_lexer": "ipython3",
   "version": "3.8.5"
  }
 },
 "nbformat": 4,
 "nbformat_minor": 4
}
