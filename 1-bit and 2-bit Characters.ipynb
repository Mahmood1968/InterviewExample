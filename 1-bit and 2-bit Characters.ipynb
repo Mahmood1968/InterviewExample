{
 "cells": [
  {
   "cell_type": "markdown",
   "metadata": {},
   "source": [
    "We have two special characters. The first character can be represented by one bit 0. The second character can be represented by two bits (10 or 11).\n",
    "\n",
    "Now given a string represented by several bits. Return whether the last character must be a one-bit character or not. The given string will always end with a zero.\n",
    "\n",
    "Example 1:\n",
    "Input: \n",
    "    \n",
    "bits = [1, 0, 0]\n",
    "\n",
    "Output: True\n",
    "    \n",
    "Explanation: \n",
    "    \n",
    "The only way to decode it is two-bit character and one-bit character. So the last character is one-bit character."
   ]
  },
  {
   "cell_type": "code",
   "execution_count": 1,
   "metadata": {},
   "outputs": [
    {
     "name": "stdout",
     "output_type": "stream",
     "text": [
      "3\n"
     ]
    }
   ],
   "source": [
    "# Python3 implementation of the approach \n",
    "\n",
    "# Function to return the count \n",
    "# of required characters \n",
    "def countChars(string, n) : \n",
    "\n",
    "    i = 0; cnt = 0; \n",
    "\n",
    "    # While there are characters left \n",
    "    while (i < n) : \n",
    "\n",
    "        # Single bit character \n",
    "        if (string[i] == '0'): \n",
    "            i += 1; \n",
    "\n",
    "        # Two-bit character \n",
    "        else : \n",
    "            i += 2; \n",
    "\n",
    "        # Update the count \n",
    "        cnt += 1; \n",
    "\n",
    "    return cnt; \n",
    "\n",
    "    # Driver code \n",
    "if __name__ == \"__main__\" : \n",
    "\n",
    "    string = \"11010\"; \n",
    "    n = len(string); \n",
    "\n",
    "    print(countChars(string, n)); \n",
    "\n",
    "# This code is contributed by AnkitRai01 \n"
   ]
  },
  {
   "cell_type": "code",
   "execution_count": 14,
   "metadata": {},
   "outputs": [],
   "source": [
    "def isOneBitCharacter( bits):\n",
    "        i = 0\n",
    "        while i < len(bits) - 1:\n",
    "            i += bits[i] + 1\n",
    "            print(i)\n",
    "        return i == len(bits) - 1"
   ]
  },
  {
   "cell_type": "code",
   "execution_count": 21,
   "metadata": {},
   "outputs": [
    {
     "name": "stdout",
     "output_type": "stream",
     "text": [
      "1\n",
      "2\n",
      "4\n",
      "6\n"
     ]
    },
    {
     "data": {
      "text/plain": [
       "False"
      ]
     },
     "execution_count": 21,
     "metadata": {},
     "output_type": "execute_result"
    }
   ],
   "source": [
    "isOneBitCharacter([0, 0, 1, 0,1,1])"
   ]
  },
  {
   "cell_type": "code",
   "execution_count": null,
   "metadata": {},
   "outputs": [],
   "source": []
  }
 ],
 "metadata": {
  "kernelspec": {
   "display_name": "Python 3",
   "language": "python",
   "name": "python3"
  },
  "language_info": {
   "codemirror_mode": {
    "name": "ipython",
    "version": 3
   },
   "file_extension": ".py",
   "mimetype": "text/x-python",
   "name": "python",
   "nbconvert_exporter": "python",
   "pygments_lexer": "ipython3",
   "version": "3.8.5"
  }
 },
 "nbformat": 4,
 "nbformat_minor": 4
}
