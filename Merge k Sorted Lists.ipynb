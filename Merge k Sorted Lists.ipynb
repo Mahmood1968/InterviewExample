{
 "cells": [
  {
   "cell_type": "markdown",
   "metadata": {},
   "source": [
    "### You are given an array of k linked-lists lists, each linked-list is sorted in ascending order.\n",
    "\n",
    "Merge all the linked-lists into one sorted linked-list and return it.\n",
    "\n",
    " \n",
    "\n",
    "a. Example 1:\n",
    "\n",
    "Input: lists = [[1,4,5],[1,3,4],[2,6]]\n",
    "\n",
    "Output: [1,1,2,3,4,4,5,6]\n",
    "\n",
    "Explanation: The linked-lists are:\n",
    "\n",
    "[\n",
    "  1->4->5,\n",
    "  1->3->4,\n",
    "  2->6\n",
    "]\n",
    "\n",
    "merging them into one sorted list:\n",
    "\n",
    "1->1->2->3->4->4->5->6"
   ]
  },
  {
   "cell_type": "markdown",
   "metadata": {},
   "source": [
    "### solution: \n",
    "1. Traverse all the linked lists and collect the values of the nodes into an array.\n",
    "2. Sort and iterate over this array to get the proper value of nodes.\n",
    "3. Create a new sorted linked list and extend it with the new nodes."
   ]
  },
  {
   "cell_type": "code",
   "execution_count": null,
   "metadata": {},
   "outputs": [],
   "source": [
    "\n",
    "class ListNode:\n",
    "    def __init__(self, val=0, next=None):\n",
    "        self.val = val\n",
    "        self.next = next\n",
    "class Solution:\n",
    "    def mergeKLists(self, lists: List[ListNode]) -> ListNode:\n",
    "        self.L=[]\n",
    "        head=ptr=ListNode(0)\n",
    "        for index in lists:\n",
    "            while index: \n",
    "              self.L.append(index.val)\n",
    "              index=index.next \n",
    "        for x in sorted(self.L):\n",
    "            ptr.next=ListNode(x)\n",
    "            ptr=ptr.next \n",
    "        return head.next "
   ]
  }
 ],
 "metadata": {
  "kernelspec": {
   "display_name": "Python 3",
   "language": "python",
   "name": "python3"
  },
  "language_info": {
   "codemirror_mode": {
    "name": "ipython",
    "version": 3
   },
   "file_extension": ".py",
   "mimetype": "text/x-python",
   "name": "python",
   "nbconvert_exporter": "python",
   "pygments_lexer": "ipython3",
   "version": "3.8.5"
  }
 },
 "nbformat": 4,
 "nbformat_minor": 4
}
