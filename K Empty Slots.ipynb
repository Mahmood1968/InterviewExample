{
 "cells": [
  {
   "cell_type": "code",
   "execution_count": 1,
   "metadata": {},
   "outputs": [],
   "source": [
    "class Solution(object):\n",
    "    def kEmptySlots(self, flowers, k):\n",
    "        days = [0] * len(flowers)\n",
    "        for day, position in enumerate(flowers, 1):\n",
    "            days[position - 1] = day\n",
    "\n",
    "        ans = float('inf')\n",
    "        left, right = 0, k+1\n",
    "        while right < len(days):\n",
    "            for i in xrange(left + 1, right):\n",
    "                if days[i] < days[left] or days[i] < days[right]:\n",
    "                    left, right = i, i+k+1\n",
    "                    break\n",
    "            else:\n",
    "                ans = min(ans, max(days[left], days[right]))\n",
    "                left, right = right, right+k+1\n",
    "\n",
    "        return ans if ans < float('inf') else -1"
   ]
  },
  {
   "cell_type": "code",
   "execution_count": null,
   "metadata": {},
   "outputs": [],
   "source": []
  }
 ],
 "metadata": {
  "kernelspec": {
   "display_name": "Python 3",
   "language": "python",
   "name": "python3"
  },
  "language_info": {
   "codemirror_mode": {
    "name": "ipython",
    "version": 3
   },
   "file_extension": ".py",
   "mimetype": "text/x-python",
   "name": "python",
   "nbconvert_exporter": "python",
   "pygments_lexer": "ipython3",
   "version": "3.8.5"
  }
 },
 "nbformat": 4,
 "nbformat_minor": 4
}
