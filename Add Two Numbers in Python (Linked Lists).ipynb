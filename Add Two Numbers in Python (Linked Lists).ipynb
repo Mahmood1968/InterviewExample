{
 "cells": [
  {
   "cell_type": "markdown",
   "metadata": {},
   "source": [
    "### Create a node \n",
    "1. Node is the basic unit of Linked list \n",
    "    - it has two properties : data and next \n",
    "    - Node is defined as class \n",
    "    - in class's contrcator initialize these properties \n",
    "2. Using this unit (Class) the linked list will be created "
   ]
  },
  {
   "cell_type": "code",
   "execution_count": 1,
   "metadata": {},
   "outputs": [],
   "source": [
    "class Node(object): \n",
    "    def __init__(self, New_data):\n",
    "        self.data = New_data\n",
    "        self.next = None "
   ]
  },
  {
   "cell_type": "markdown",
   "metadata": {},
   "source": [
    "## Create linked list class \n",
    "1. This class is a sequnce of Nodes connected with each other "
   ]
  },
  {
   "cell_type": "code",
   "execution_count": 2,
   "metadata": {},
   "outputs": [],
   "source": [
    "class linkelist(object):\n",
    "    def __init__(self):\n",
    "        self.head=None\n",
    "        \n",
    "        \n",
    "    def insert_at_start(self, new_data):\n",
    "        new_node = Node(new_data) \n",
    "        new_node.next = self.head \n",
    "        self.head = new_node\n",
    "    \n",
    "    def insert_at_end(self, datax):\n",
    "        new_node = Node(datax)\n",
    "        if self.head is None:\n",
    "            self.head = new_node\n",
    "            \n",
    "            return\n",
    "        \n",
    "        nextPtr = self.head\n",
    "        while nextPtr.next:\n",
    "            nextPtr= nextPtr.next\n",
    "        nextPtr.next = new_node\n",
    "        \n",
    "        \n",
    "    def display(self) : \n",
    "        ptr = self.head \n",
    "        while(ptr): \n",
    "            print (ptr.data), \n",
    "            ptr = ptr.next \n",
    "            \n",
    "    def addTwoList(self, l1, l2):\n",
    "       prev=None\n",
    "       tmp=None \n",
    "       c=0 \n",
    "       while (l1 is not None or l2 is not None ):\n",
    "            fdata = 0 if l1 is None else l1.data \n",
    "            sdata = 0 if l2 is None else l2.data \n",
    "            s=fdata+sdata+c \n",
    "            c= 1 if s >=10 else 0 \n",
    "            s= s if s<10 else s%10 \n",
    "             \n",
    "            tmp=Node(s)   \n",
    "    \n",
    "            if self.head is None: \n",
    "                self.head=tmp\n",
    "            else:\n",
    "                prev.next =tmp \n",
    "             \n",
    "            prev=tmp \n",
    "            \n",
    "            if l1 is not None : \n",
    "                l1=l1.next \n",
    "            if l2 is not None: \n",
    "                l2=l2.next \n",
    "            if c > 0: \n",
    "                tmp.next=Node(c)\n",
    "    "
   ]
  },
  {
   "cell_type": "code",
   "execution_count": null,
   "metadata": {},
   "outputs": [],
   "source": []
  },
  {
   "cell_type": "markdown",
   "metadata": {},
   "source": [
    "### Create an instance from linked list "
   ]
  },
  {
   "cell_type": "code",
   "execution_count": 3,
   "metadata": {},
   "outputs": [],
   "source": [
    "linkedlist1=linkelist()\n",
    "linkedlist2=linkelist()"
   ]
  },
  {
   "cell_type": "code",
   "execution_count": 4,
   "metadata": {},
   "outputs": [],
   "source": [
    "linkedlist1.insert_at_start(6)\n",
    "linkedlist1.insert_at_start(4)\n",
    "linkedlist1.insert_at_start(3)\n"
   ]
  },
  {
   "cell_type": "code",
   "execution_count": 5,
   "metadata": {},
   "outputs": [],
   "source": [
    "linkedlist2.insert_at_start(5)\n",
    "linkedlist2.insert_at_start(6)\n",
    "linkedlist2.insert_at_start(4)"
   ]
  },
  {
   "cell_type": "code",
   "execution_count": 6,
   "metadata": {},
   "outputs": [
    {
     "name": "stdout",
     "output_type": "stream",
     "text": [
      "3\n",
      "4\n",
      "6\n"
     ]
    }
   ],
   "source": [
    "linkedlist1.display()"
   ]
  },
  {
   "cell_type": "code",
   "execution_count": 7,
   "metadata": {},
   "outputs": [
    {
     "name": "stdout",
     "output_type": "stream",
     "text": [
      "4\n",
      "6\n",
      "5\n"
     ]
    }
   ],
   "source": [
    "linkedlist2.display()"
   ]
  },
  {
   "cell_type": "code",
   "execution_count": 8,
   "metadata": {},
   "outputs": [],
   "source": [
    "result=linkelist()"
   ]
  },
  {
   "cell_type": "code",
   "execution_count": 9,
   "metadata": {},
   "outputs": [],
   "source": [
    "result.addTwoList(linkedlist1.head, linkedlist2.head)"
   ]
  },
  {
   "cell_type": "code",
   "execution_count": 10,
   "metadata": {},
   "outputs": [
    {
     "name": "stdout",
     "output_type": "stream",
     "text": [
      "7\n"
     ]
    }
   ],
   "source": [
    "result.display()"
   ]
  },
  {
   "cell_type": "code",
   "execution_count": null,
   "metadata": {},
   "outputs": [],
   "source": []
  },
  {
   "cell_type": "code",
   "execution_count": null,
   "metadata": {},
   "outputs": [],
   "source": []
  },
  {
   "cell_type": "code",
   "execution_count": null,
   "metadata": {},
   "outputs": [],
   "source": []
  },
  {
   "cell_type": "code",
   "execution_count": null,
   "metadata": {},
   "outputs": [],
   "source": []
  },
  {
   "cell_type": "code",
   "execution_count": null,
   "metadata": {},
   "outputs": [],
   "source": []
  }
 ],
 "metadata": {
  "kernelspec": {
   "display_name": "Python 3",
   "language": "python",
   "name": "python3"
  },
  "language_info": {
   "codemirror_mode": {
    "name": "ipython",
    "version": 3
   },
   "file_extension": ".py",
   "mimetype": "text/x-python",
   "name": "python",
   "nbconvert_exporter": "python",
   "pygments_lexer": "ipython3",
   "version": "3.8.3"
  }
 },
 "nbformat": 4,
 "nbformat_minor": 4
}
