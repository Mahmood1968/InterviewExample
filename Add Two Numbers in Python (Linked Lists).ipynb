{
 "cells": [
  {
   "cell_type": "markdown",
   "metadata": {},
   "source": [
    "### Create a node \n",
    "1. This is the basic unit of Linked list \n",
    "2. using this unit (Class) the linked list will be create from that "
   ]
  },
  {
   "cell_type": "code",
   "execution_count": 1,
   "metadata": {},
   "outputs": [],
   "source": [
    "class Node: \n",
    "    def __init__(self, New_data):\n",
    "        self.data = New_data\n",
    "        self.next = None "
   ]
  },
  {
   "cell_type": "markdown",
   "metadata": {},
   "source": [
    "## Create linked list class \n",
    "1. This class is a sequnce of Nodes connected with each other "
   ]
  },
  {
   "cell_type": "code",
   "execution_count": 11,
   "metadata": {},
   "outputs": [],
   "source": [
    "class linkelist:\n",
    "    def __init__(self):\n",
    "        self.head=None\n",
    "    def insert_at_end(self, new_data):\n",
    "        new_node = Node(new_data) \n",
    "        new_node.next = self.head \n",
    "        self.head = new_node\n",
    "        \n",
    "    def display(self) : \n",
    "        temp = self.head \n",
    "        while(temp): \n",
    "            print (temp.data), \n",
    "            temp = temp.next \n",
    "            \n",
    "    def addTwoList(self, l1, l2):\n",
    "       prev=None\n",
    "       tmp=None \n",
    "       c=0 \n",
    "       while (l1 is not None or l2 is not None ):\n",
    "            fdata = 0 if l1 is None else l1.data \n",
    "            sdata = 0 if l2 is None else l2.data \n",
    "            s=fdata+sdata+c \n",
    "            c= 1 if s >=10 else 0 \n",
    "            s= s if s<10 else s%10 \n",
    "             \n",
    "            tmp=Node(s)   \n",
    "    \n",
    "            if self.head is None: \n",
    "                self.head=tmp\n",
    "            else:\n",
    "                prev.next =tmp \n",
    "             \n",
    "            prev=tmp \n",
    "            \n",
    "            if l1 is not None : \n",
    "                l1=l1.next \n",
    "            if l2 is not None: \n",
    "                l2=l2.next \n",
    "            if c > 0: \n",
    "                tmp.next=Node(c)"
   ]
  },
  {
   "cell_type": "code",
   "execution_count": 12,
   "metadata": {},
   "outputs": [],
   "source": [
    "l1=linkelist()\n",
    "l2=linkelist()"
   ]
  },
  {
   "cell_type": "code",
   "execution_count": 13,
   "metadata": {},
   "outputs": [],
   "source": [
    "l1.insert_at_end(2)\n",
    "l1.insert_at_end(4)\n",
    "l1.insert_at_end(3)\n",
    "l2.insert_at_end(5)\n",
    "l2.insert_at_end(6)\n",
    "l2.insert_at_end(4)"
   ]
  },
  {
   "cell_type": "code",
   "execution_count": 14,
   "metadata": {},
   "outputs": [
    {
     "name": "stdout",
     "output_type": "stream",
     "text": [
      "3\n",
      "4\n",
      "2\n"
     ]
    }
   ],
   "source": [
    "l1.display()"
   ]
  },
  {
   "cell_type": "code",
   "execution_count": 15,
   "metadata": {},
   "outputs": [
    {
     "name": "stdout",
     "output_type": "stream",
     "text": [
      "4\n",
      "6\n",
      "5\n"
     ]
    }
   ],
   "source": [
    "l2.display()"
   ]
  },
  {
   "cell_type": "code",
   "execution_count": 17,
   "metadata": {},
   "outputs": [],
   "source": [
    "result=linkelist()"
   ]
  },
  {
   "cell_type": "code",
   "execution_count": 21,
   "metadata": {},
   "outputs": [],
   "source": [
    "result.addTwoList(l1.head, l2.head)"
   ]
  },
  {
   "cell_type": "code",
   "execution_count": 22,
   "metadata": {},
   "outputs": [
    {
     "name": "stdout",
     "output_type": "stream",
     "text": [
      "7\n",
      "0\n",
      "8\n"
     ]
    }
   ],
   "source": [
    "result.display()"
   ]
  },
  {
   "cell_type": "code",
   "execution_count": null,
   "metadata": {},
   "outputs": [],
   "source": []
  }
 ],
 "metadata": {
  "kernelspec": {
   "display_name": "Python 3",
   "language": "python",
   "name": "python3"
  },
  "language_info": {
   "codemirror_mode": {
    "name": "ipython",
    "version": 3
   },
   "file_extension": ".py",
   "mimetype": "text/x-python",
   "name": "python",
   "nbconvert_exporter": "python",
   "pygments_lexer": "ipython3",
   "version": "3.8.5"
  }
 },
 "nbformat": 4,
 "nbformat_minor": 4
}
