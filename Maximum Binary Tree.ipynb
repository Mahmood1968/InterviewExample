{
 "cells": [
  {
   "cell_type": "markdown",
   "metadata": {},
   "source": [
    "### 654. Maximum Binary Tree\n",
    "Medium\n",
    "\n",
    "\n",
    "Given an integer array with no duplicates. A maximum tree building on this array is defined as follow:\n",
    "\n",
    "The root is the maximum number in the array.\n",
    "The left subtree is the maximum tree constructed from left part subarray divided by the maximum number.\n",
    "The right subtree is the maximum tree constructed from right part subarray divided by the maximum number.\n",
    "Construct the maximum tree by the given array and output the root node of this tree.\n",
    "\n",
    "Example 1:\n",
    "Input: [3,2,1,6,0,5]\n",
    "Output: return the tree root node representing the following tree:\n",
    "\n",
    "       6\n",
    "    /     \\\n",
    "   3        5\n",
    "    \\      / \n",
    "     2    0   \n",
    "       \\\n",
    "        1"
   ]
  },
  {
   "cell_type": "code",
   "execution_count": 34,
   "metadata": {},
   "outputs": [],
   "source": [
    "class TreeNode(object):\n",
    "    def __init__(self, val=0, left=None, right=None):\n",
    "        self.val = val\n",
    "        self.left = left\n",
    "        self.right = right"
   ]
  },
  {
   "cell_type": "code",
   "execution_count": 47,
   "metadata": {},
   "outputs": [],
   "source": [
    "class Solution(object):\n",
    "    def __init__(self):  \n",
    "            self.left = None\n",
    "            self.right= None\n",
    "            self.val = None\n",
    "    def constructMaximumBinaryTree(self, nums):\n",
    "        \"\"\"\n",
    "        :type nums: List[int]\n",
    "        :rtype: TreeNode\n",
    "        \"\"\"\n",
    "        \n",
    "        def maxTree(nums):\n",
    "            idx=nums.index(max(nums))\n",
    "            node = TreeNode(nums[idx])\n",
    "            if len(nums[idx+1:]) > 0:\n",
    "                node.right = maxTree(nums[idx+1:])\n",
    "            if len(nums[:idx]) > 0:\n",
    "                node.left = maxTree(nums[:idx])\n",
    "            return node\n",
    "        return maxTree(nums)\n",
    "    \n",
    "    "
   ]
  },
  {
   "cell_type": "code",
   "execution_count": 48,
   "metadata": {},
   "outputs": [],
   "source": [
    "a=[3,2,1,6,0,5]"
   ]
  },
  {
   "cell_type": "code",
   "execution_count": 49,
   "metadata": {},
   "outputs": [],
   "source": [
    "sol=Solution()"
   ]
  },
  {
   "cell_type": "code",
   "execution_count": 50,
   "metadata": {},
   "outputs": [
    {
     "name": "stdout",
     "output_type": "stream",
     "text": [
      "<__main__.TreeNode object at 0x00000296F6BF9430>\n"
     ]
    }
   ],
   "source": [
    "print(sol.constructMaximumBinaryTree(a))"
   ]
  },
  {
   "cell_type": "code",
   "execution_count": 51,
   "metadata": {},
   "outputs": [
    {
     "name": "stdout",
     "output_type": "stream",
     "text": [
      "None\n"
     ]
    }
   ],
   "source": [
    "sol.inorder(sol)"
   ]
  },
  {
   "cell_type": "markdown",
   "metadata": {},
   "source": [
    "#  Maximum Binary Tree II\n",
    "\n",
    "We are given the root node of a maximum tree: a tree where every node has a value greater than any other value in its subtree.\n",
    "\n",
    "Just as in the previous problem, the given tree was constructed from an list A (root = Construct(A)) recursively with the following Construct(A) routine:\n",
    "\n",
    "- If A is empty, return null.\n",
    "- Otherwise, let A[i] be the largest element of A.  Create a root node with value A[i].\n",
    "- The left child of root will be Construct([A[0], A[1], ..., A[i-1]])\n",
    "- The right child of root will be Construct([A[i+1], A[i+2], ..., A[A.length - 1]])\n",
    "- Return root.\n",
    "Note that we were not given A directly, only a root node root = Construct(A).\n",
    "\n",
    "Suppose B is a copy of A with the value val appended to it.  It is guaranteed that B has unique values.\n",
    "\n",
    "Return Construct(B)."
   ]
  },
  {
   "cell_type": "code",
   "execution_count": null,
   "metadata": {},
   "outputs": [],
   "source": []
  }
 ],
 "metadata": {
  "kernelspec": {
   "display_name": "Python 3",
   "language": "python",
   "name": "python3"
  },
  "language_info": {
   "codemirror_mode": {
    "name": "ipython",
    "version": 3
   },
   "file_extension": ".py",
   "mimetype": "text/x-python",
   "name": "python",
   "nbconvert_exporter": "python",
   "pygments_lexer": "ipython3",
   "version": "3.8.5"
  }
 },
 "nbformat": 4,
 "nbformat_minor": 4
}
