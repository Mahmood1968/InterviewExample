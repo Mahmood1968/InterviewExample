{
 "cells": [
  {
   "cell_type": "markdown",
   "metadata": {},
   "source": [
    "## find maximum  and minimum value  in a Binary Tree\n",
    "- Node's data.\n",
    "- Maximum in node’s left subtree.\n",
    "- Maximum in node’s right subtree."
   ]
  },
  {
   "cell_type": "code",
   "execution_count": 5,
   "metadata": {},
   "outputs": [
    {
     "name": "stdout",
     "output_type": "stream",
     "text": [
      "Maximum element is 11\n",
      "Minimum element is 1\n"
     ]
    }
   ],
   "source": [
    "# Python3 program to find maximum\n",
    "# and minimum in a Binary Tree\n",
    "\n",
    "# A class to create a new node\n",
    "\n",
    "\n",
    "class newNode:\n",
    "    def __init__(self, data):\n",
    "        self.data = data\n",
    "        self.left = self.right = None\n",
    "\n",
    "# Returns maximum value in a\n",
    "# given Binary Tree\n",
    "\n",
    "\n",
    "def findMax(root):\n",
    "\n",
    "    # Base case\n",
    "    if (root == None):\n",
    "        return float('-inf')\n",
    "\n",
    "    # Return maximum of 3 values:\n",
    "    # 1) Root's data 2) Max in Left Subtree\n",
    "    # 3) Max in right subtree\n",
    "    res = root.data\n",
    "    lres = findMax(root.left)\n",
    "    rres = findMax(root.right)\n",
    "    if (lres > res):\n",
    "        res = lres\n",
    "    if (rres > res):\n",
    "        res = rres\n",
    "    return res\n",
    "\n",
    "def find_min_in_BT(root):\n",
    "    if root is None:\n",
    "        return float('inf')\n",
    "    res = root.data\n",
    "    lres = find_min_in_BT(root.left)\n",
    "    rres = find_min_in_BT(root.right)\n",
    "    if lres < res:\n",
    "        res = lres\n",
    "    if rres < res:\n",
    "        res = rres\n",
    "    return res\n",
    " \n",
    "# This code is contributed by Subhajit Nandi\n",
    "\n",
    "\n",
    "# Driver Code\n",
    "if __name__ == '__main__':\n",
    "    root = newNode(2)\n",
    "    root.left = newNode(7)\n",
    "    root.right = newNode(5)\n",
    "    root.left.right = newNode(6)\n",
    "    root.left.right.left = newNode(1)\n",
    "    root.left.right.right = newNode(11)\n",
    "    root.right.right = newNode(9)\n",
    "    root.right.right.left = newNode(4)\n",
    "\n",
    "    # Function call\n",
    "    print(\"Maximum element is\",\n",
    "        findMax(root))\n",
    "print(\"Minimum element is\",find_min_in_BT(root))\n",
    "# This code is contributed by PranchalK\n"
   ]
  },
  {
   "cell_type": "code",
   "execution_count": null,
   "metadata": {},
   "outputs": [],
   "source": []
  }
 ],
 "metadata": {
  "kernelspec": {
   "display_name": "Python 3",
   "language": "python",
   "name": "python3"
  },
  "language_info": {
   "codemirror_mode": {
    "name": "ipython",
    "version": 3
   },
   "file_extension": ".py",
   "mimetype": "text/x-python",
   "name": "python",
   "nbconvert_exporter": "python",
   "pygments_lexer": "ipython3",
   "version": "3.8.5"
  }
 },
 "nbformat": 4,
 "nbformat_minor": 4
}
