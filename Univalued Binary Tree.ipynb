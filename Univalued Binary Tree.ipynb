{
 "cells": [
  {
   "cell_type": "markdown",
   "metadata": {},
   "source": [
    "### Univalued Binary Tree\n",
    "A binary tree is univalued if every node in the tree has the same value.\n",
    "\n",
    "Return true if and only if the given tree is univalued.\n",
    "\n",
    " \n",
    "\n",
    "Example 1:\n",
    "\n",
    "             1 \n",
    "             \n",
    "         /         \\\n",
    "          1           1 \n",
    "       /    \\           \\\n",
    "     1        1           1\n",
    "\n",
    "Input: [1,1,1,1,1,null,1]\n",
    "Output: true"
   ]
  },
  {
   "cell_type": "code",
   "execution_count": null,
   "metadata": {},
   "outputs": [],
   "source": [
    "    \n",
    "    \"\"\" def isUnivalTree(self, root: TreeNode):\n",
    "            values=[] \n",
    "            def dfs(root):\n",
    "                values.append(root.val)\n",
    "                dfs(root.left)\n",
    "                dfs(root.right)\n",
    "            dfs(TreeNode)    \n",
    "            return len(set(values))==1 \"\"\""
   ]
  },
  {
   "cell_type": "code",
   "execution_count": 2,
   "metadata": {},
   "outputs": [],
   "source": [
    "class TreeNode(object):\n",
    "    def __init__(self, val=0, left=None, right=None):\n",
    "        self.val = val\n",
    "        self.left = left\n",
    "        self.right = right"
   ]
  },
  {
   "cell_type": "code",
   "execution_count": 3,
   "metadata": {},
   "outputs": [],
   "source": [
    "\n",
    "class Solution(object):\n",
    "     def __init__(self, root):\n",
    "        self.root=TreeNode(root)\n",
    "    \n",
    "     def isUnivalTree(self, root: TreeNode) -> bool:\n",
    "        if root is None:\n",
    "            return True \n",
    "        if (root.left ):\n",
    "            if(root.val!= root.left.val) or (root.val !=root.right.val):\n",
    "                return False \n",
    "        \n",
    "        return self.isUnivalTree(root.left) and self.isUnivalTree(root.right)  \n",
    "    \n",
    "    "
   ]
  },
  {
   "cell_type": "code",
   "execution_count": 4,
   "metadata": {},
   "outputs": [],
   "source": [
    "tree=Solution(1)\n",
    "tree.root.left=TreeNode(1)\n",
    "tree.root.right=TreeNode(1)\n",
    "tree.root.left.left=TreeNode(1)\n",
    "tree.root.left.right=TreeNode(1)\n",
    "\n",
    "tree.root.right=TreeNode(1)\n",
    "tree.root.right.right=TreeNode(1)"
   ]
  },
  {
   "cell_type": "code",
   "execution_count": 5,
   "metadata": {},
   "outputs": [
    {
     "data": {
      "text/plain": [
       "True"
      ]
     },
     "execution_count": 5,
     "metadata": {},
     "output_type": "execute_result"
    }
   ],
   "source": [
    "\n",
    "tree.isUnivalTree(tree.root)"
   ]
  },
  {
   "cell_type": "code",
   "execution_count": null,
   "metadata": {},
   "outputs": [],
   "source": []
  }
 ],
 "metadata": {
  "kernelspec": {
   "display_name": "Python 3",
   "language": "python",
   "name": "python3"
  },
  "language_info": {
   "codemirror_mode": {
    "name": "ipython",
    "version": 3
   },
   "file_extension": ".py",
   "mimetype": "text/x-python",
   "name": "python",
   "nbconvert_exporter": "python",
   "pygments_lexer": "ipython3",
   "version": "3.8.5"
  }
 },
 "nbformat": 4,
 "nbformat_minor": 4
}
