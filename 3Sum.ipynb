{
 "cells": [
  {
   "cell_type": "markdown",
   "metadata": {},
   "source": [
    "Given an array **nums** of **n** integers, are there elements a, b, c in **nums** such that a + b + c = 0? \n",
    "\n",
    "Find all unique triplets in the array which gives the sum of zero.\n",
    "\n",
    "Notice that the solution set __must not contain duplicate triplets.__\n",
    "\n",
    " \n",
    "\n",
    "**Example 1:**\n",
    "\n",
    "    Input: nums = [-1,0,1,2,-1,-4]\n",
    "    Output: [[-1,-1,2],[-1,0,1]]\n",
    "\n",
    "**Example 2:**\n",
    "\n",
    "    Input: nums = []\n",
    "    Output: []\n",
    "\n",
    "**Example 3:**\n",
    "\n",
    "    Input: nums = [0]\n",
    "    Output: []"
   ]
  },
  {
   "cell_type": "code",
   "execution_count": 2,
   "metadata": {},
   "outputs": [],
   "source": [
    "class Solution0:\n",
    "    def threeSum(self, nums):\n",
    "        result=[]\n",
    "        nums.sort()\n",
    "        target=0\n",
    "        for i, a in enumerate(nums):\n",
    "            if i>0 and a ==nums[i-1]:\n",
    "                continue \n",
    "            l=i+1\n",
    "            r = len(nums)-1 \n",
    "            while l<r :\n",
    "                s=a+nums[l]+nums[r]\n",
    "                if s> target:\n",
    "                    r-=1 \n",
    "                elif s<target:\n",
    "                    l+=1\n",
    "                else:\n",
    "                    result.append([a, nums[l], nums[r]])\n",
    "                    l+=1\n",
    "                    while nums[l]==nums[l-1] and l<r:\n",
    "                        l+=1\n",
    "        return result  \n",
    "    \n",
    "class Solution1:\n",
    "    def threeSum(self, nums):\n",
    "        result=[]\n",
    "        nums.sort()\n",
    "        target=0\n",
    "        for i, a in enumerate(nums):\n",
    "            if i>0 and a ==nums[i-1]:\n",
    "                continue \n",
    "            l=i+1\n",
    "            r = len(nums)-1 \n",
    "            while l<r :\n",
    "                s=a+nums[l]+nums[r]\n",
    "                if s> target:\n",
    "                    r-=1 \n",
    "                elif s<target:\n",
    "                    l+=1\n",
    "                else:\n",
    "                    result.append([a, nums[l], nums[r]])\n",
    "                    l+=1\n",
    "                    while nums[l]==nums[l-1] and l<r:\n",
    "                        l+=1\n",
    "        return result                "
   ]
  },
  {
   "cell_type": "code",
   "execution_count": 5,
   "metadata": {},
   "outputs": [
    {
     "ename": "SyntaxError",
     "evalue": "invalid syntax (<ipython-input-5-30de57f18f92>, line 1)",
     "output_type": "error",
     "traceback": [
      "\u001b[1;36m  File \u001b[1;32m\"<ipython-input-5-30de57f18f92>\"\u001b[1;36m, line \u001b[1;32m1\u001b[0m\n\u001b[1;33m    class eee{(Solution1), (Solution0)}:\u001b[0m\n\u001b[1;37m             ^\u001b[0m\n\u001b[1;31mSyntaxError\u001b[0m\u001b[1;31m:\u001b[0m invalid syntax\n"
     ]
    }
   ],
   "source": [
    "class eee{(Solution1), (Solution0)}:\n",
    "     def threeSum(self, nums):\n",
    "        result=[]\n",
    "        nums.sort()\n",
    "        target=0\n",
    "        for i, a in enumerate(nums):\n",
    "            if i>0 and a ==nums[i-1]:\n",
    "                continue \n",
    "            l=i+1\n",
    "            r = len(nums)-1 \n",
    "            while l<r :\n",
    "                s=a+nums[l]+nums[r]\n",
    "                if s> target:\n",
    "                    r-=1 \n",
    "                elif s<target:\n",
    "                    l+=1\n",
    "                else:\n",
    "                    result.append([a, nums[l], nums[r]])\n",
    "                    l+=1\n",
    "                    while nums[l]==nums[l-1] and l<r:\n",
    "                        l+=1\n",
    "        return result         "
   ]
  },
  {
   "cell_type": "code",
   "execution_count": 5,
   "metadata": {},
   "outputs": [],
   "source": [
    "sol=Solution()"
   ]
  },
  {
   "cell_type": "code",
   "execution_count": 6,
   "metadata": {},
   "outputs": [],
   "source": [
    "nums = [-1,0,1,2,-1,-4]"
   ]
  },
  {
   "cell_type": "code",
   "execution_count": 7,
   "metadata": {},
   "outputs": [
    {
     "name": "stdout",
     "output_type": "stream",
     "text": [
      "[[-1, -1, 2], [-1, 0, 1]]\n"
     ]
    }
   ],
   "source": [
    "print(sol.threeSum(nums))"
   ]
  },
  {
   "cell_type": "code",
   "execution_count": 8,
   "metadata": {},
   "outputs": [],
   "source": [
    "nums = []"
   ]
  },
  {
   "cell_type": "code",
   "execution_count": 9,
   "metadata": {},
   "outputs": [
    {
     "name": "stdout",
     "output_type": "stream",
     "text": [
      "[]\n"
     ]
    }
   ],
   "source": [
    "print(sol.threeSum(nums))"
   ]
  },
  {
   "cell_type": "code",
   "execution_count": 10,
   "metadata": {},
   "outputs": [],
   "source": [
    "nums = [0]"
   ]
  },
  {
   "cell_type": "code",
   "execution_count": 11,
   "metadata": {},
   "outputs": [
    {
     "name": "stdout",
     "output_type": "stream",
     "text": [
      "[]\n"
     ]
    }
   ],
   "source": [
    "print(sol.threeSum(nums))"
   ]
  },
  {
   "cell_type": "code",
   "execution_count": null,
   "metadata": {},
   "outputs": [],
   "source": []
  }
 ],
 "metadata": {
  "kernelspec": {
   "display_name": "Python 3",
   "language": "python",
   "name": "python3"
  },
  "language_info": {
   "codemirror_mode": {
    "name": "ipython",
    "version": 3
   },
   "file_extension": ".py",
   "mimetype": "text/x-python",
   "name": "python",
   "nbconvert_exporter": "python",
   "pygments_lexer": "ipython3",
   "version": "3.8.5"
  }
 },
 "nbformat": 4,
 "nbformat_minor": 4
}
