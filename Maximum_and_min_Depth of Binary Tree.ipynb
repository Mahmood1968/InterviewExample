{
 "cells": [
  {
   "cell_type": "code",
   "execution_count": 1,
   "metadata": {},
   "outputs": [],
   "source": [
    "class Node(object):  \n",
    "    def __init__(self,data):  \n",
    "        self.leftPtr = None\n",
    "        self.rightPtr = None\n",
    "        self.val = data  "
   ]
  },
  {
   "cell_type": "code",
   "execution_count": 11,
   "metadata": {},
   "outputs": [],
   "source": [
    "class BST(object):  \n",
    "    def __init__(self,data):  \n",
    "        self.leftPtr = None\n",
    "        self.rightPtr = None\n",
    "        self.val = data \n",
    "        \n",
    "    def insert(self, root,key):  \n",
    "        if root is None:  \n",
    "            return Node(key)  \n",
    "        else: \n",
    "            if root.val == key: \n",
    "                return root \n",
    "            elif root.val < key:  \n",
    "                root.rightPtr = self.insert(root.rightPtr, key)  \n",
    "            else: \n",
    "                root.leftPtr = self.insert(root.leftPtr, key) \n",
    "        return root \n",
    "    \n",
    "    def maxDepth(self,  root): \n",
    "        if root is None: \n",
    "            return 0 ;  \n",
    "\n",
    "        else : # Compute the depth of each subtree \n",
    "            lDepth = self.maxDepth(root.leftPtr) \n",
    "            rDepth = self.maxDepth(root.rightPtr) \n",
    "\n",
    "            # Use the larger one \n",
    "            if (lDepth > rDepth): \n",
    "                return lDepth+1\n",
    "            else: \n",
    "                return rDepth+1\n",
    "            \n",
    "    def minDepth(self, root):\n",
    "        if root==None:\n",
    "            return 0 \n",
    "        else:\n",
    "            left=self.minDepth(root.left)\n",
    "            right=self.minDepth(root.right)\n",
    "        if left==0 or right==0:\n",
    "            return (left+right+1)\n",
    "        else:\n",
    "            return min(left,right)+1"
   ]
  },
  {
   "cell_type": "code",
   "execution_count": null,
   "metadata": {},
   "outputs": [],
   "source": []
  },
  {
   "cell_type": "code",
   "execution_count": 12,
   "metadata": {},
   "outputs": [
    {
     "data": {
      "text/plain": [
       "<__main__.BST at 0x264ade377f0>"
      ]
     },
     "execution_count": 12,
     "metadata": {},
     "output_type": "execute_result"
    }
   ],
   "source": [
    "# Driver program to test above function \n",
    "root = BST(50)  \n",
    "root.insert(root, 30)  \n",
    "root.insert(root, 20)  \n",
    "root.insert(root, 40)  \n",
    "root.insert(root, 70)  \n",
    "root.insert(root, 60)  \n",
    "root.insert(root, 80)  "
   ]
  },
  {
   "cell_type": "code",
   "execution_count": 13,
   "metadata": {},
   "outputs": [
    {
     "name": "stdout",
     "output_type": "stream",
     "text": [
      "Height of tree is = 3\n"
     ]
    }
   ],
   "source": [
    "print(\"Height of tree is =\", (root.maxDepth(root))) "
   ]
  },
  {
   "cell_type": "code",
   "execution_count": 14,
   "metadata": {},
   "outputs": [
    {
     "ename": "AttributeError",
     "evalue": "'BST' object has no attribute 'left'",
     "output_type": "error",
     "traceback": [
      "\u001b[1;31m---------------------------------------------------------------------------\u001b[0m",
      "\u001b[1;31mAttributeError\u001b[0m                            Traceback (most recent call last)",
      "\u001b[1;32m<ipython-input-14-c2476b542adb>\u001b[0m in \u001b[0;36m<module>\u001b[1;34m\u001b[0m\n\u001b[1;32m----> 1\u001b[1;33m \u001b[0mprint\u001b[0m\u001b[1;33m(\u001b[0m\u001b[1;34m\"Minimum depth of tree is =\"\u001b[0m\u001b[1;33m,\u001b[0m \u001b[1;33m(\u001b[0m\u001b[0mroot\u001b[0m\u001b[1;33m.\u001b[0m\u001b[0mminDepth\u001b[0m\u001b[1;33m(\u001b[0m\u001b[0mroot\u001b[0m\u001b[1;33m)\u001b[0m\u001b[1;33m)\u001b[0m\u001b[1;33m)\u001b[0m\u001b[1;33m\u001b[0m\u001b[1;33m\u001b[0m\u001b[0m\n\u001b[0m",
      "\u001b[1;32m<ipython-input-11-6886106c973f>\u001b[0m in \u001b[0;36mminDepth\u001b[1;34m(self, root)\u001b[0m\n\u001b[0;32m     35\u001b[0m             \u001b[1;32mreturn\u001b[0m \u001b[1;36m0\u001b[0m\u001b[1;33m\u001b[0m\u001b[1;33m\u001b[0m\u001b[0m\n\u001b[0;32m     36\u001b[0m         \u001b[1;32melse\u001b[0m\u001b[1;33m:\u001b[0m\u001b[1;33m\u001b[0m\u001b[1;33m\u001b[0m\u001b[0m\n\u001b[1;32m---> 37\u001b[1;33m             \u001b[0mleft\u001b[0m\u001b[1;33m=\u001b[0m\u001b[0mself\u001b[0m\u001b[1;33m.\u001b[0m\u001b[0mminDepth\u001b[0m\u001b[1;33m(\u001b[0m\u001b[0mroot\u001b[0m\u001b[1;33m.\u001b[0m\u001b[0mleft\u001b[0m\u001b[1;33m)\u001b[0m\u001b[1;33m\u001b[0m\u001b[1;33m\u001b[0m\u001b[0m\n\u001b[0m\u001b[0;32m     38\u001b[0m             \u001b[0mright\u001b[0m\u001b[1;33m=\u001b[0m\u001b[0mself\u001b[0m\u001b[1;33m.\u001b[0m\u001b[0mminDepth\u001b[0m\u001b[1;33m(\u001b[0m\u001b[0mroot\u001b[0m\u001b[1;33m.\u001b[0m\u001b[0mright\u001b[0m\u001b[1;33m)\u001b[0m\u001b[1;33m\u001b[0m\u001b[1;33m\u001b[0m\u001b[0m\n\u001b[0;32m     39\u001b[0m         \u001b[1;32mif\u001b[0m \u001b[0mleft\u001b[0m\u001b[1;33m==\u001b[0m\u001b[1;36m0\u001b[0m \u001b[1;32mor\u001b[0m \u001b[0mright\u001b[0m\u001b[1;33m==\u001b[0m\u001b[1;36m0\u001b[0m\u001b[1;33m:\u001b[0m\u001b[1;33m\u001b[0m\u001b[1;33m\u001b[0m\u001b[0m\n",
      "\u001b[1;31mAttributeError\u001b[0m: 'BST' object has no attribute 'left'"
     ]
    }
   ],
   "source": [
    "print(\"Minimum depth of tree is =\", (root.minDepth(root)))"
   ]
  },
  {
   "cell_type": "code",
   "execution_count": null,
   "metadata": {},
   "outputs": [],
   "source": []
  }
 ],
 "metadata": {
  "kernelspec": {
   "display_name": "Python 3",
   "language": "python",
   "name": "python3"
  },
  "language_info": {
   "codemirror_mode": {
    "name": "ipython",
    "version": 3
   },
   "file_extension": ".py",
   "mimetype": "text/x-python",
   "name": "python",
   "nbconvert_exporter": "python",
   "pygments_lexer": "ipython3",
   "version": "3.8.5"
  }
 },
 "nbformat": 4,
 "nbformat_minor": 4
}
