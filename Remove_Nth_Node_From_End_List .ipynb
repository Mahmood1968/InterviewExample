{
 "cells": [
  {
   "cell_type": "markdown",
   "metadata": {},
   "source": [
    "### Problem :\n",
    "1. Given the head of a linked list, remove the nth node from the end of the list and return its head.\n",
    "\n",
    "Example 1:\n",
    "\n",
    "    Input: head = [1,2,3,4,5], n = 2\n",
    "    Output: [1,2,3,5]\n",
    "    \n",
    "Example 2:\n",
    "\n",
    "    Input: head = [1], n = 1\n",
    "    Output: []    "
   ]
  },
  {
   "cell_type": "markdown",
   "metadata": {},
   "source": [
    "### Algorthims : \n",
    "   1. **Traverse list method:** \n",
    "        1. check if the list is empty then return the head pointer which is null \n",
    "        2. If the list is not empty \n",
    "            use another pointer nextPtr and move till it read the end and print the item at the same time\n",
    "            \n",
    "   2.**insert_Node_at_start method:**\n",
    "        1. Create a new node and fill it with data \n",
    "        2. make head point to this node \n",
    "   3.**insert_at_end method:**\n",
    "        1. create a new node with the data\n",
    "        2. if the list is empty just add it at the begging and let head point to it \n",
    "        3. if list not empty traverse till nextPtr reach the end and make nextPtr.next point to the new node\n",
    "        \n",
    "   4.**Remove nth element from the end of linked list:**\n",
    "     1. Set slowPtr and fastPtr \n",
    "     2. Move FastPtr by $k+1$ ahead of slowPtr : using while loop here \n",
    "     2. Find the location/index of node to be delted using  $N -k = ?$ where $N$ is the number of nodes in list and $k$ is the node that need to be deleted. Where $?$ will be the index of a node before the node that need to be removed. For example , in list of $[1,2,3,4,5]$ and $N=5$ and $k=2$. Then, a pointer must point to the third node , and node which contain 4 must be deleted. \n",
    "     4. Delete node fourth by making next of node thrid point to fifth node. \n",
    "    \n",
    "    Deleting process : \n",
    "     We need two extra pointer slowPtr and fastPtr. FastPrt will be incremented by $k+1$ , so if $k=2$ that means fastPtr will be increment by 3.\n",
    "     While slow will be incremneted by one. Thus, the difference between fastPtr and slowPtr is 2 . \n",
    "     \n",
    "     \n",
    "        "
   ]
  },
  {
   "cell_type": "markdown",
   "metadata": {},
   "source": [
    "### Create and Instance of the linked list class \n",
    "1. Insert some values in this linked list \n",
    "2. traverse over the linked list and print all element till the pointer reach the end "
   ]
  },
  {
   "cell_type": "code",
   "execution_count": 1,
   "metadata": {},
   "outputs": [],
   "source": [
    "import numpy as np \n"
   ]
  },
  {
   "cell_type": "code",
   "execution_count": 2,
   "metadata": {},
   "outputs": [],
   "source": [
    "#!conda install -y numpy "
   ]
  },
  {
   "cell_type": "markdown",
   "metadata": {},
   "source": [
    "#### Creating the Node Class\n",
    "  This node is an object contains item (data ) and next which is a pointer \n",
    "  Initially this node is empty "
   ]
  },
  {
   "cell_type": "code",
   "execution_count": 302,
   "metadata": {},
   "outputs": [],
   "source": [
    "class Node:\n",
    "    def __init__(self, new_data):\n",
    "        self.data = new_data\n",
    "        self.next = None"
   ]
  },
  {
   "cell_type": "markdown",
   "metadata": {},
   "source": [
    "### Creating a linked list class with all methods "
   ]
  },
  {
   "cell_type": "code",
   "execution_count": 303,
   "metadata": {},
   "outputs": [],
   "source": [
    "class LinkedList:\n",
    "    def __init__(self):\n",
    "        self.head = None\n",
    "        \n",
    "        \n",
    "        \n",
    "    def traverse_list(self):\n",
    "        if not self.head:\n",
    "            print(\"List has no element\")\n",
    "            return\n",
    "        else:\n",
    "            nextPtr = self.head.next\n",
    "            while nextPtr: \n",
    "                print(nextPtr.data , \" \")\n",
    "                nextPtr = nextPtr.next \n",
    "                \n",
    "                \n",
    "    def insert_Node_at_start(self, data):\n",
    "        new_node = Node(data)\n",
    "        new_node.next = self.head\n",
    "        self.head= new_node  \n",
    "        \n",
    "    def insert_at_end(self, data):\n",
    "        new_node = Node(data)\n",
    "        if not self.head:\n",
    "            self.head = new_node\n",
    "            return\n",
    "        nextPtr = self.head\n",
    "        while nextPtr.next:\n",
    "            nextPtr= nextPtr.next\n",
    "        nextPtr.next = new_node\n",
    "        \n",
    "    def removeNthNode(self, n):\n",
    "        \n",
    "        slowPrt=self.head\n",
    "        fastPtr=self.head\n",
    "        \n",
    "        #  Move FastPtr n+1 ahead of slowPtr : using while loop here \n",
    "        while n+1:\n",
    "            fastPtr=fastPtr.next\n",
    "            n=n-1\n",
    "            print(\"n=\", n)\n",
    "        # Move fastPtr one step ahead of slowPtr     \n",
    "        while fastPtr:   # while fastPtr is not None loop \n",
    "            slowPrt=slowPrt.next\n",
    "            fastPtr=fastPtr.next\n",
    "        slowPrt.next=slowPrt.next.next\n",
    "        return head \n",
    "    \n",
    "    def removeNthFromEnd_2(self, n: int):\n",
    "        \n",
    "        tmp=head\n",
    "        N=0\n",
    "        while tmp is not None:\n",
    "            tm=tmp.next\n",
    "            N=N+1\n",
    "        k=N-n\n",
    "        \n",
    "        prev=None\n",
    "        ptr=head\n",
    "        while k!=0:\n",
    "            prev=ptr \n",
    "            ptr=ptr.next \n",
    "            k=k-1\n",
    "        if prev==None:\n",
    "            return head.next \n",
    "        else:\n",
    "            prev.next=ptr.next \n",
    "            ptr.next=None\n",
    "            return head \n",
    "   "
   ]
  },
  {
   "cell_type": "code",
   "execution_count": 304,
   "metadata": {},
   "outputs": [],
   "source": [
    "new_linked_list = LinkedList()"
   ]
  },
  {
   "cell_type": "code",
   "execution_count": 305,
   "metadata": {},
   "outputs": [],
   "source": [
    "new_linked_list.insert_at_end(5)"
   ]
  },
  {
   "cell_type": "code",
   "execution_count": 306,
   "metadata": {},
   "outputs": [],
   "source": [
    "new_linked_list.traverse_list()"
   ]
  },
  {
   "cell_type": "code",
   "execution_count": 307,
   "metadata": {},
   "outputs": [],
   "source": [
    "new_linked_list.insert_at_end(5)\n",
    "new_linked_list.insert_at_end(10)\n",
    "new_linked_list.insert_at_end(15)\n",
    "new_linked_list.insert_at_end(5)\n",
    "new_linked_list.insert_at_end(10)\n",
    "new_linked_list.insert_at_end(15)\n",
    "new_linked_list.insert_at_end(5)\n",
    "new_linked_list.insert_at_end(10)\n",
    "new_linked_list.insert_at_end(15)\n",
    "new_linked_list.insert_at_end(5)\n",
    "new_linked_list.insert_at_end(10)\n",
    "new_linked_list.insert_at_end(15)\n",
    "new_linked_list.insert_at_end(5)\n",
    "new_linked_list.insert_at_end(10)\n",
    "new_linked_list.insert_at_end(15)\n",
    "new_linked_list.insert_at_end(5)\n",
    "new_linked_list.insert_at_end(10)\n",
    "new_linked_list.insert_at_end(15)"
   ]
  },
  {
   "cell_type": "code",
   "execution_count": 308,
   "metadata": {},
   "outputs": [
    {
     "name": "stdout",
     "output_type": "stream",
     "text": [
      "5  \n",
      "10  \n",
      "15  \n",
      "5  \n",
      "10  \n",
      "15  \n",
      "5  \n",
      "10  \n",
      "15  \n",
      "5  \n",
      "10  \n",
      "15  \n",
      "5  \n",
      "10  \n",
      "15  \n",
      "5  \n",
      "10  \n",
      "15  \n"
     ]
    }
   ],
   "source": [
    "new_linked_list.traverse_list()"
   ]
  },
  {
   "cell_type": "code",
   "execution_count": 309,
   "metadata": {},
   "outputs": [
    {
     "name": "stdout",
     "output_type": "stream",
     "text": [
      "n= 1\n",
      "n= 0\n",
      "n= -1\n"
     ]
    },
    {
     "data": {
      "text/plain": [
       "<__main__.Node at 0x1e20e668cd0>"
      ]
     },
     "execution_count": 309,
     "metadata": {},
     "output_type": "execute_result"
    }
   ],
   "source": [
    "new_linked_list.removeNthNode(2)"
   ]
  },
  {
   "cell_type": "code",
   "execution_count": 310,
   "metadata": {},
   "outputs": [
    {
     "name": "stdout",
     "output_type": "stream",
     "text": [
      "5  \n",
      "10  \n",
      "15  \n",
      "5  \n",
      "10  \n",
      "15  \n",
      "5  \n",
      "10  \n",
      "15  \n",
      "5  \n",
      "10  \n",
      "15  \n",
      "5  \n",
      "10  \n",
      "15  \n",
      "5  \n",
      "15  \n"
     ]
    }
   ],
   "source": [
    "new_linked_list.traverse_list()"
   ]
  },
  {
   "cell_type": "code",
   "execution_count": null,
   "metadata": {},
   "outputs": [],
   "source": []
  }
 ],
 "metadata": {
  "kernelspec": {
   "display_name": "Python 3",
   "language": "python",
   "name": "python3"
  },
  "language_info": {
   "codemirror_mode": {
    "name": "ipython",
    "version": 3
   },
   "file_extension": ".py",
   "mimetype": "text/x-python",
   "name": "python",
   "nbconvert_exporter": "python",
   "pygments_lexer": "ipython3",
   "version": "3.8.5"
  }
 },
 "nbformat": 4,
 "nbformat_minor": 4
}
