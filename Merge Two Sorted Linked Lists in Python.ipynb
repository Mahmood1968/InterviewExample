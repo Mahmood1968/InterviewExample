{
 "cells": [
  {
   "cell_type": "code",
   "execution_count": 26,
   "metadata": {},
   "outputs": [],
   "source": [
    "class Node: \n",
    "    def __init__(self, New_data):\n",
    "        self.data = New_data\n",
    "        self.next = None "
   ]
  },
  {
   "cell_type": "code",
   "execution_count": 39,
   "metadata": {},
   "outputs": [],
   "source": [
    "class LinkedList: \n",
    "     def __init__(self):\n",
    "        self.head=None\n",
    "    \n",
    "     def insert_at_end(self, new_data):\n",
    "            new_node = Node(new_data) \n",
    "            new_node.next = self.head \n",
    "            self.head = new_node\n",
    "            \n",
    "     def display(self) : \n",
    "         temp = self.head \n",
    "         while(temp): \n",
    "             print (temp.data), \n",
    "             temp = temp.next \n",
    "     def addToList(self, newData):\n",
    "        newNode = Node(newData)\n",
    "        if self.head is None:\n",
    "            self.head = newNode\n",
    "            return\n",
    " \n",
    "        last = self.head\n",
    "        while last.next:\n",
    "            last = last.next\n",
    " \n",
    "        last.next = newNode\n",
    "    \n",
    "def mergeLists(headA, headB):\n",
    " \n",
    "    # A dummy node to store the result\n",
    "    dummyNode = Node(0)\n",
    " \n",
    "    # Tail stores the last node\n",
    "    tail = dummyNode\n",
    "    while True:\n",
    " \n",
    "        # If any of the list gets completely empty\n",
    "        # directly join all the elements of the other list\n",
    "        if headA is None:\n",
    "            tail.next = headB\n",
    "            break\n",
    "        if headB is None:\n",
    "            tail.next = headA\n",
    "            break\n",
    " \n",
    "        # Compare the data of the lists and whichever is smaller is\n",
    "        # appended to the last of the merged list and the head is changed\n",
    "        if headA.data <= headB.data:\n",
    "            tail.next = headA\n",
    "            headA = headA.next\n",
    "        else:\n",
    "            tail.next = headB\n",
    "            headB = headB.next\n",
    " \n",
    "        # Advance the tail\n",
    "        tail = tail.next\n",
    " \n",
    "    # Returns the head of the merged list\n",
    "    return dummyNode.next"
   ]
  },
  {
   "cell_type": "code",
   "execution_count": 40,
   "metadata": {},
   "outputs": [],
   "source": [
    "l1=LinkedList()\n",
    "l2=LinkedList()"
   ]
  },
  {
   "cell_type": "code",
   "execution_count": 41,
   "metadata": {},
   "outputs": [],
   "source": [
    "l1.addToList(1)\n",
    "l1.addToList(2)\n",
    "l1.addToList(4)\n",
    "l2.addToList(1)\n",
    "l2.addToList(3)\n",
    "l2.addToList(4)"
   ]
  },
  {
   "cell_type": "code",
   "execution_count": 42,
   "metadata": {},
   "outputs": [
    {
     "name": "stdout",
     "output_type": "stream",
     "text": [
      "1\n",
      "2\n",
      "4\n"
     ]
    }
   ],
   "source": [
    "l1.display()"
   ]
  },
  {
   "cell_type": "code",
   "execution_count": 43,
   "metadata": {},
   "outputs": [
    {
     "name": "stdout",
     "output_type": "stream",
     "text": [
      "1\n",
      "3\n",
      "4\n"
     ]
    }
   ],
   "source": [
    "l2.display()"
   ]
  },
  {
   "cell_type": "code",
   "execution_count": 44,
   "metadata": {},
   "outputs": [],
   "source": [
    "l1.head = mergeLists(l1.head, l2.head)"
   ]
  },
  {
   "cell_type": "code",
   "execution_count": 45,
   "metadata": {},
   "outputs": [
    {
     "name": "stdout",
     "output_type": "stream",
     "text": [
      "1\n",
      "1\n",
      "2\n",
      "3\n",
      "4\n",
      "4\n"
     ]
    }
   ],
   "source": [
    "l1.display()"
   ]
  },
  {
   "cell_type": "code",
   "execution_count": null,
   "metadata": {},
   "outputs": [],
   "source": []
  }
 ],
 "metadata": {
  "kernelspec": {
   "display_name": "Python 3",
   "language": "python",
   "name": "python3"
  },
  "language_info": {
   "codemirror_mode": {
    "name": "ipython",
    "version": 3
   },
   "file_extension": ".py",
   "mimetype": "text/x-python",
   "name": "python",
   "nbconvert_exporter": "python",
   "pygments_lexer": "ipython3",
   "version": "3.6.5"
  }
 },
 "nbformat": 4,
 "nbformat_minor": 4
}
