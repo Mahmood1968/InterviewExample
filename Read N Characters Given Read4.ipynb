{
 "cells": [
  {
   "cell_type": "markdown",
   "metadata": {},
   "source": [
    "## Read N Characters Given Read4\n",
    "\n",
    "Given a file and assume that you can only read the file using a given method read4, implement a method to read n characters.\n",
    "\n",
    " \n",
    "\n",
    "Method read4:\n",
    "\n",
    "The API read4 reads 4 consecutive characters from the file, then writes those characters into the buffer array buf4.\n",
    "\n",
    "The return value is the number of actual characters read.\n",
    "\n",
    "Note that read4() has its own file pointer, much like FILE *fp in C.\n",
    "\n",
    "Definition of read4:\n",
    "\n",
    "    Parameter:  char[] buf4\n",
    "    Returns:    int\n",
    "\n",
    "Note: buf4[] is destination not source, the results from read4 will be copied to buf4[]\n",
    "Below is a high level example of how read4 works:"
   ]
  },
  {
   "cell_type": "markdown",
   "metadata": {},
   "source": [
    "## Algorithm\n",
    "\n",
    "Let's use an internal buffer of 4 characters to solve this problem:\n",
    "\n",
    "File -> Internal Buffer of 4 Characters -> Buffer of N Characters.\n",
    "\n",
    "Initialize the number of copied characters copiedChars = 0, \n",
    "and the number of read characters: readChars = 4. \n",
    "    It's convenient initialize readChars to 4 and then use readChars != 4 as EOF marker.\n",
    "\n",
    "Initialize an internal buffer of 4 characters: buf4.\n",
    "\n",
    "While number of copied characters is less than N: copiedChars < n and there are still characters in the file: readChars == 4:\n",
    "\n",
    "Read from file into internal buffer: readChars = read4(buf4).\n",
    "\n",
    "Copy the characters from internal buffer buf4 into main buffer buf one by one. \n",
    "ncrease copiedChars after each character. \n",
    "In the number of copied characters is equal to N: copiedChars == n, interrupt the copy process and return copiedChars."
   ]
  },
  {
   "cell_type": "code",
   "execution_count": null,
   "metadata": {},
   "outputs": [],
   "source": [
    "class Solution:\n",
    "    def read(self, buf, n) -> int:\n",
    "        copied_chars = 0\n",
    "        read_chars = 4\n",
    "        buf4 = [''] * 4\n",
    "        \n",
    "        while copied_chars < n and read_chars == 4:\n",
    "            read_chars = read4(buf4)\n",
    "            \n",
    "            for i in range(read_chars):\n",
    "                if copied_chars == n:\n",
    "                    return copied_chars\n",
    "                buf[copied_chars] = buf4[i]\n",
    "                copied_chars += 1\n",
    "        \n",
    "        return copied_chars"
   ]
  }
 ],
 "metadata": {
  "kernelspec": {
   "display_name": "Python 3",
   "language": "python",
   "name": "python3"
  },
  "language_info": {
   "codemirror_mode": {
    "name": "ipython",
    "version": 3
   },
   "file_extension": ".py",
   "mimetype": "text/x-python",
   "name": "python",
   "nbconvert_exporter": "python",
   "pygments_lexer": "ipython3",
   "version": "3.8.5"
  }
 },
 "nbformat": 4,
 "nbformat_minor": 4
}
