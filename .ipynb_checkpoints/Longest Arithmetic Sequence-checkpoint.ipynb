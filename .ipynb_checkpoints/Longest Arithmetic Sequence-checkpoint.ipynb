{
 "cells": [
  {
   "cell_type": "markdown",
   "metadata": {},
   "source": [
    "### Question\n",
    "Given an array A of integers, return the length of the longest arithmetic subsequence in A.\n",
    "\n",
    "Recall that a subsequence of A is a list A[i_1], A[i_2], ..., A[i_k] with 0 <= i_1 < i_2 < ... < i_k <= A.length - 1, and that a sequence B is arithmetic if B[i+1] - B[i] are all the same value (for `0 <= i < B.length\n",
    "\n",
    "1`).\n",
    "Example 1:\n",
    "\n",
    " **Input:** [3,6,9,12]\n",
    " \n",
    "**Output:** 4\n",
    "\n",
    "**Explanation:**\n",
    "\n",
    "The whole array is an arithmetic sequence with steps of length = 3.\n",
    "\n",
    "Example 2:\n",
    "\n",
    "**Input:** [9,4,7,2,10]\n",
    "\n",
    "**Output:** 3\n",
    "\n",
    "**Explanation:**\n",
    "\n",
    "The longest arithmetic subsequence is [4,7,10].\n",
    "\n",
    "Example 3:\n",
    "\n",
    "**Input:** [20,1,15,3,10,5,8]\n",
    "\n",
    "**Output:** 4\n",
    "\n",
    "**Explanation:**\n",
    "\n",
    "The longest arithmetic subsequence is [20,15,10,5].\n",
    "Note:\n",
    "\n",
    "2 <= A.length <= 2000\n",
    "\n",
    "0 <= A[i] <= 10000\n",
    "\n",
    "Solution 1\n",
    "\n",
    "dp[diff][index] equals to the length of arithmetic sequence at index with difference diff"
   ]
  },
  {
   "cell_type": "code",
   "execution_count": 5,
   "metadata": {},
   "outputs": [],
   "source": [
    "def longestArithSeqLength( A):\n",
    "        dp = {}\n",
    "        n=len(A)\n",
    "        for i in range(len(A)):\n",
    "            for j in range(i + 1, len(A)):\n",
    "                dp[j, A[j] - A[i]] = dp.get((i, A[j] - A[i]), 1) + 1\n",
    "        return max(dp.values())"
   ]
  },
  {
   "cell_type": "code",
   "execution_count": 6,
   "metadata": {},
   "outputs": [],
   "source": [
    "A=[3,6,9,12]"
   ]
  },
  {
   "cell_type": "code",
   "execution_count": 7,
   "metadata": {},
   "outputs": [
    {
     "name": "stdout",
     "output_type": "stream",
     "text": [
      "4\n"
     ]
    }
   ],
   "source": [
    "print(longestArithSeqLength(A))"
   ]
  },
  {
   "cell_type": "code",
   "execution_count": null,
   "metadata": {},
   "outputs": [],
   "source": []
  }
 ],
 "metadata": {
  "kernelspec": {
   "display_name": "Python 3",
   "language": "python",
   "name": "python3"
  },
  "language_info": {
   "codemirror_mode": {
    "name": "ipython",
    "version": 3
   },
   "file_extension": ".py",
   "mimetype": "text/x-python",
   "name": "python",
   "nbconvert_exporter": "python",
   "pygments_lexer": "ipython3",
   "version": "3.8.5"
  }
 },
 "nbformat": 4,
 "nbformat_minor": 4
}
