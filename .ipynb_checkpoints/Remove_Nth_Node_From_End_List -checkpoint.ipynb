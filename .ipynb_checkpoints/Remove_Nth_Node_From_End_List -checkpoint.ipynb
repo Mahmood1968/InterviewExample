{
 "cells": [
  {
   "cell_type": "markdown",
   "metadata": {},
   "source": [
    "### Problem :\n",
    "1. Given the head of a linked list, remove the nth node from the end of the list and return its head.\n",
    "\n",
    "Example 1:\n",
    "\n",
    "    Input: head = [1,2,3,4,5], n = 2\n",
    "    Output: [1,2,3,5]\n",
    "    \n",
    "Example 2:\n",
    "\n",
    "    Input: head = [1], n = 1\n",
    "    Output: []    "
   ]
  },
  {
   "cell_type": "code",
   "execution_count": 1,
   "metadata": {},
   "outputs": [],
   "source": [
    "import numpy as np \n"
   ]
  },
  {
   "cell_type": "code",
   "execution_count": 2,
   "metadata": {},
   "outputs": [],
   "source": [
    "#!conda install -y numpy "
   ]
  },
  {
   "cell_type": "markdown",
   "metadata": {},
   "source": [
    "#### Creating the Node Class\n",
    "  This node is an object contains item (data ) and next which is a pointer \n",
    "  Initially this node is empty "
   ]
  },
  {
   "cell_type": "code",
   "execution_count": 192,
   "metadata": {},
   "outputs": [],
   "source": [
    "class Node:\n",
    "    def __init__(self, data=None):\n",
    "        self.data = data\n",
    "        self.next = None"
   ]
  },
  {
   "cell_type": "markdown",
   "metadata": {},
   "source": [
    "### Creating a linked list class with all methods "
   ]
  },
  {
   "cell_type": "code",
   "execution_count": 197,
   "metadata": {},
   "outputs": [],
   "source": [
    "class LinkedList:\n",
    "    def __init__(self):\n",
    "        self.head = Node()\n",
    "        \n",
    "        \n",
    "    def traverse_list(self):\n",
    "        if not self.head:\n",
    "            print(\"List has no element\")\n",
    "            return\n",
    "        else:\n",
    "            nextPtr = self.head.next\n",
    "            while nextPtr: \n",
    "                print(nextPtr.data , \" \")\n",
    "                nextPtr = nextPtr.next \n",
    "                \n",
    "                \n",
    "    def insert_Node_at_start(self, data):\n",
    "        new_node = Node(data)\n",
    "        new_node.next = self.head\n",
    "        self.head= new_node  \n",
    "        \n",
    "    def insert_at_end(self, data):\n",
    "        new_node = Node(data)\n",
    "        if not self.head:\n",
    "            self.head = new_node\n",
    "            return\n",
    "        nextPtr = self.head\n",
    "        while nextPtr.next:\n",
    "            nextPtr= nextPtr.next\n",
    "        nextPtr.next = new_node\n",
    "        \n",
    "    def removeNthNode(self, n):\n",
    "        \n",
    "        slowPrt=self.head\n",
    "        fastPtr=self.head\n",
    "        \n",
    "\n",
    "        while n+1:\n",
    "            fastPtr=fastPtr.next\n",
    "            n=n-1\n",
    "        while fastPtr:\n",
    "            slowPrt=slowPrt.next\n",
    "            fastPtr=fastPtr.next\n",
    "        slowPrt.next=slowPrt.next.next\n",
    "        return head \n",
    "    \n",
    "   "
   ]
  },
  {
   "cell_type": "markdown",
   "metadata": {},
   "source": [
    "### Algorthims : \n",
    "   1. **Traverse list method:** \n",
    "        1. check if the list is empty then return the head pointer which is null \n",
    "        2. If the list is not empty \n",
    "            use another pointer nextPtr and move till it read the end and print the item at the same time\n",
    "            \n",
    "   2.**insert_Node_at_start method:**\n",
    "        1. Create a new node and fill it with data \n",
    "        2. make head point to this node \n",
    "   3.**insert_at_end method:**\n",
    "        1. create a new node with the data\n",
    "        2. if the list is empty just add it at the begging and let head point to it \n",
    "        3. if list not empty traverse till nextPtr reach the end and make nextPtr.next point to the new node \n",
    "        "
   ]
  },
  {
   "cell_type": "markdown",
   "metadata": {},
   "source": [
    "### Create and Instance of the linked list class \n",
    "1. Insert some values in this linked list \n",
    "2. traverse over the linked list and print all element till the pointer reach the end "
   ]
  },
  {
   "cell_type": "code",
   "execution_count": 198,
   "metadata": {},
   "outputs": [],
   "source": [
    "new_linked_list = LinkedList()"
   ]
  },
  {
   "cell_type": "code",
   "execution_count": 199,
   "metadata": {},
   "outputs": [],
   "source": [
    "new_linked_list.insert_at_end(5)"
   ]
  },
  {
   "cell_type": "code",
   "execution_count": 200,
   "metadata": {},
   "outputs": [
    {
     "name": "stdout",
     "output_type": "stream",
     "text": [
      "5  \n"
     ]
    }
   ],
   "source": [
    "new_linked_list.traverse_list()"
   ]
  },
  {
   "cell_type": "code",
   "execution_count": 201,
   "metadata": {},
   "outputs": [],
   "source": [
    "new_linked_list.insert_at_end(5)\n",
    "new_linked_list.insert_at_end(10)\n",
    "new_linked_list.insert_at_end(15)\n",
    "new_linked_list.insert_at_end(5)\n",
    "new_linked_list.insert_at_end(10)\n",
    "new_linked_list.insert_at_end(15)\n",
    "new_linked_list.insert_at_end(5)\n",
    "new_linked_list.insert_at_end(10)\n",
    "new_linked_list.insert_at_end(15)"
   ]
  },
  {
   "cell_type": "code",
   "execution_count": 202,
   "metadata": {},
   "outputs": [
    {
     "name": "stdout",
     "output_type": "stream",
     "text": [
      "5  \n",
      "5  \n",
      "10  \n",
      "15  \n",
      "5  \n",
      "10  \n",
      "15  \n",
      "5  \n",
      "10  \n",
      "15  \n"
     ]
    }
   ],
   "source": [
    "new_linked_list.traverse_list()"
   ]
  },
  {
   "cell_type": "code",
   "execution_count": 203,
   "metadata": {},
   "outputs": [
    {
     "data": {
      "text/plain": [
       "<__main__.Node at 0x1e20e668cd0>"
      ]
     },
     "execution_count": 203,
     "metadata": {},
     "output_type": "execute_result"
    }
   ],
   "source": [
    "new_linked_list.removeNthNode( 2)"
   ]
  },
  {
   "cell_type": "code",
   "execution_count": 204,
   "metadata": {},
   "outputs": [
    {
     "name": "stdout",
     "output_type": "stream",
     "text": [
      "5  \n",
      "5  \n",
      "10  \n",
      "15  \n",
      "5  \n",
      "10  \n",
      "15  \n",
      "5  \n",
      "15  \n"
     ]
    }
   ],
   "source": [
    "new_linked_list.traverse_list()"
   ]
  },
  {
   "cell_type": "code",
   "execution_count": null,
   "metadata": {},
   "outputs": [],
   "source": []
  },
  {
   "cell_type": "code",
   "execution_count": null,
   "metadata": {},
   "outputs": [],
   "source": []
  }
 ],
 "metadata": {
  "kernelspec": {
   "display_name": "Python 3",
   "language": "python",
   "name": "python3"
  },
  "language_info": {
   "codemirror_mode": {
    "name": "ipython",
    "version": 3
   },
   "file_extension": ".py",
   "mimetype": "text/x-python",
   "name": "python",
   "nbconvert_exporter": "python",
   "pygments_lexer": "ipython3",
   "version": "3.8.5"
  }
 },
 "nbformat": 4,
 "nbformat_minor": 4
}
