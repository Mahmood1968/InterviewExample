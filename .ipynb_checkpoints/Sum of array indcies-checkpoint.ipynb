{
 "cells": [
  {
   "cell_type": "code",
   "execution_count": 46,
   "metadata": {},
   "outputs": [],
   "source": [
    "class NumArray:\n",
    "\n",
    "    def __init__(self, nums):\n",
    "        self.nums=nums\n",
    "        \n",
    "\n",
    "    def sumRange(self, i: int, j: int) -> int:\n",
    "        sum=0 \n",
    "        arr=self.nums[0][0]\n",
    "        print(\"i= %d \\t j= %d \" %(i, j))\n",
    "        if(i<=j):\n",
    "            for k in range(i,j+1):\n",
    "                 print(\"k index \", k , \" value=\", arr[k])\n",
    "                 sum =sum+arr[k]  \n",
    "                 #print(\"sum=\", sum)\n",
    "                 k+=1   \n",
    "        else: return None   \n",
    "        return sum  \n",
    "    \n",
    "    def fun(self, muns): \n",
    "        print(\"nums\", self.nums)\n",
    "        n=len(self.nums)\n",
    "        print(\"n=\",n)\n",
    "        m=1\n",
    "        arr=self.nums[0][0]\n",
    "        print(arr)\n",
    "        res=[]\n",
    "        while m<n:\n",
    "            i=self.nums[m][0]\n",
    "            j=self.nums[m][1]\n",
    "            print(\"here i= \", i)\n",
    "            print(\"here j= \", j)\n",
    "            if(i<=j):\n",
    "                if i<=-1 or j>=len(arr) : return None\n",
    "                if i==0 and j==0 : \n",
    "                    return arr[j]\n",
    "                #print(\"return sum is = \", self.sumRange(i,j)) \n",
    "                res.append(self.sumRange(i,j))\n",
    "            else:\n",
    "                print(\"NO VALID INDECES\")\n",
    "            m+=1 \n",
    "        print(res)  "
   ]
  },
  {
   "cell_type": "code",
   "execution_count": 47,
   "metadata": {},
   "outputs": [],
   "source": [
    "b=[[[-2, 0, 3, -5, 2, -1]], [3, 1], [2, 5], [0, 5]]\n",
    "sol=NumArray(b)"
   ]
  },
  {
   "cell_type": "code",
   "execution_count": 48,
   "metadata": {},
   "outputs": [
    {
     "name": "stdout",
     "output_type": "stream",
     "text": [
      "nums [[[-2, 0, 3, -5, 2, -1]], [3, 1], [2, 5], [0, 5]]\n",
      "n= 4\n",
      "[-2, 0, 3, -5, 2, -1]\n",
      "here i=  3\n",
      "here j=  1\n",
      "NO VALID INDECES\n",
      "here i=  2\n",
      "here j=  5\n",
      "i= 2 \t j= 5 \n",
      "k index  2  value= 3\n",
      "k index  3  value= -5\n",
      "k index  4  value= 2\n",
      "k index  5  value= -1\n",
      "here i=  0\n",
      "here j=  5\n",
      "i= 0 \t j= 5 \n",
      "k index  0  value= -2\n",
      "k index  1  value= 0\n",
      "k index  2  value= 3\n",
      "k index  3  value= -5\n",
      "k index  4  value= 2\n",
      "k index  5  value= -1\n",
      "[-1, -3]\n",
      "None\n"
     ]
    }
   ],
   "source": [
    "\n",
    "print(sol.fun(b))"
   ]
  },
  {
   "cell_type": "code",
   "execution_count": null,
   "metadata": {},
   "outputs": [],
   "source": [
    "def sumRange(self, i: int, j: int) -> int:\n",
    "        print(\"nums\", self.nums)\n",
    "        n=len(self.nums)\n",
    "        print(\"n=\",n)\n",
    "        m=1\n",
    "        arr=self.nums[0][0]\n",
    "        print(arr)\n",
    "        res=[]\n",
    "        while m<n:\n",
    "            #arr=nums[0][0]\n",
    "            i=self.nums[m][0]\n",
    "            j=self.nums[m][1]\n",
    "            print(\"i= \", i)\n",
    "            print(\"j= \", j)\n",
    "            if i<=-1 or j>=len(arr) : return \n",
    "            if i==0 and j==0 : \n",
    "                return arr[j]\n",
    "            sum=0 \n",
    "            for k in range(i,j+1):\n",
    "                 print(\"arr of k\", arr[k])\n",
    "                 sum =sum+arr[k]  \n",
    "                 print(\"sum=\", sum)\n",
    "                 k+=1   \n",
    "            res.append(sum)   \n",
    "            \n",
    "            m+=1 \n",
    "        return res  "
   ]
  }
 ],
 "metadata": {
  "kernelspec": {
   "display_name": "Python 3",
   "language": "python",
   "name": "python3"
  },
  "language_info": {
   "codemirror_mode": {
    "name": "ipython",
    "version": 3
   },
   "file_extension": ".py",
   "mimetype": "text/x-python",
   "name": "python",
   "nbconvert_exporter": "python",
   "pygments_lexer": "ipython3",
   "version": "3.8.5"
  }
 },
 "nbformat": 4,
 "nbformat_minor": 4
}
