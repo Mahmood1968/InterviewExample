{
 "cells": [
  {
   "cell_type": "code",
   "execution_count": null,
   "metadata": {},
   "outputs": [],
   "source": [
    "10.0//5.0 "
   ]
  },
  {
   "cell_type": "code",
   "execution_count": 1,
   "metadata": {},
   "outputs": [],
   "source": [
    "# Create a new dictionary \n",
    "d = dict() \n",
    "\"\"\"# Add a key - value pairs to dictionary \n",
    "for i in range(10):\n",
    "    d[i]=i+1\"\"\"\n",
    "\n",
    "\n",
    "# another method of iteration \n",
    "\"\"\"for index, key in enumerate(d): \n",
    "    print ( key, d[key])\"\"\"\n",
    "k=[2,4,100, 200 , 300 ]\n",
    "for i , n in enumerate(d):\n",
    "    if d.get(n) is None: \n",
    "       d[i]=n \n",
    "    else:\n",
    "        continue\n"
   ]
  },
  {
   "cell_type": "code",
   "execution_count": 11,
   "metadata": {},
   "outputs": [
    {
     "name": "stdout",
     "output_type": "stream",
     "text": [
      "key=1  value=0\n",
      "key=2  value=1\n",
      "key=3  value=2\n",
      "key=4  value=3\n",
      "key=5  value=4\n",
      "dict_keys([0, 1, 2, 3, 4])   dict_values([1, 2, 3, 4, 5])\n"
     ]
    }
   ],
   "source": [
    "dict1={}\n",
    "result=[]\n",
    "nums=[1,2,3,4,5,2,3,4]\n",
    "for index , k in enumerate(nums):\n",
    "    if dict1.get(k) is None: \n",
    "       dict1[index]=k\n",
    "       print('key={0}  value={1}'.format(k, index ))\n",
    "    else: \n",
    "       result.append(k)\n",
    "print(dict1.keys(), \" \", dict1.values())    "
   ]
  },
  {
   "cell_type": "code",
   "execution_count": 12,
   "metadata": {},
   "outputs": [
    {
     "name": "stdout",
     "output_type": "stream",
     "text": [
      "[2, 3, 4]\n"
     ]
    }
   ],
   "source": [
    "print(result)"
   ]
  },
  {
   "cell_type": "code",
   "execution_count": null,
   "metadata": {},
   "outputs": [],
   "source": []
  },
  {
   "cell_type": "code",
   "execution_count": null,
   "metadata": {},
   "outputs": [],
   "source": []
  },
  {
   "cell_type": "code",
   "execution_count": null,
   "metadata": {},
   "outputs": [],
   "source": []
  }
 ],
 "metadata": {
  "kernelspec": {
   "display_name": "Python 3",
   "language": "python",
   "name": "python3"
  },
  "language_info": {
   "codemirror_mode": {
    "name": "ipython",
    "version": 3
   },
   "file_extension": ".py",
   "mimetype": "text/x-python",
   "name": "python",
   "nbconvert_exporter": "python",
   "pygments_lexer": "ipython3",
   "version": "3.8.5"
  }
 },
 "nbformat": 4,
 "nbformat_minor": 4
}
