{
 "cells": [
  {
   "cell_type": "code",
   "execution_count": null,
   "metadata": {},
   "outputs": [],
   "source": [
    "import numpy as np "
   ]
  },
  {
   "cell_type": "code",
   "execution_count": 5,
   "metadata": {},
   "outputs": [],
   "source": [
    "T=[0,9,0,2,6,8,0,8,3,0]"
   ]
  },
  {
   "cell_type": "code",
   "execution_count": 6,
   "metadata": {},
   "outputs": [],
   "source": [
    "d={k: v for k, v in enumerate(T)}"
   ]
  },
  {
   "cell_type": "code",
   "execution_count": 7,
   "metadata": {},
   "outputs": [
    {
     "data": {
      "text/plain": [
       "{0: 0, 1: 9, 2: 0, 3: 2, 4: 6, 5: 8, 6: 0, 7: 8, 8: 3, 9: 0}"
      ]
     },
     "execution_count": 7,
     "metadata": {},
     "output_type": "execute_result"
    }
   ],
   "source": [
    "d"
   ]
  },
  {
   "cell_type": "code",
   "execution_count": 10,
   "metadata": {},
   "outputs": [],
   "source": [
    "def is_odd(number):\n",
    "    return number % 2\n",
    "def findrout(k,dic):\n",
    "    l=[0]\n",
    "    #while k==0\n",
    "    flag=0\n",
    "    \n",
    "    for key, value in dic.items(): \n",
    "            if value == k and key!=0:\n",
    "               \n",
    "                l.append(key)\n",
    "               \n",
    "                k=key\n",
    "   #l.append(k)            \n",
    "    return l\n",
    "\n",
    "def findrout_1(k,dic):\n",
    "    l=[0]\n",
    "    #while k==0\n",
    "    flag=0\n",
    "    for key, value in dic.items(): \n",
    "            if value == k and key!=0:\n",
    "                if key %2 !=0 and any(map(is_odd, l)):\n",
    "                    continue \n",
    "                else:\n",
    "                    l.append(key)\n",
    "               \n",
    "                k=key\n",
    "   #l.append(k)            \n",
    "    return l\n",
    "\n",
    "def solution(d):\n",
    "    l1=[]\n",
    "    k=0\n",
    "    for key, value in d.items():\n",
    "        if value==k:\n",
    "            l2=findrout(k,dict(list(d.items())[key+1:]))\n",
    "            l1.append(l2) \n",
    "    m=max(l1) \n",
    "    #print(m)\n",
    "    return l1"
   ]
  },
  {
   "cell_type": "code",
   "execution_count": 11,
   "metadata": {},
   "outputs": [
    {
     "data": {
      "text/plain": [
       "[[0, 2, 3, 8], [0, 6], [0, 9], [0]]"
      ]
     },
     "execution_count": 11,
     "metadata": {},
     "output_type": "execute_result"
    }
   ],
   "source": [
    "solution(d)"
   ]
  },
  {
   "cell_type": "code",
   "execution_count": 1,
   "metadata": {},
   "outputs": [],
   "source": [
    "def findrout(k,dic):\n",
    "    l=[0]\n",
    "    #while k==0\n",
    "    flag=0\n",
    "    \n",
    "    for key, value in dic.items(): \n",
    "            if value == k and key!=0:\n",
    "               \n",
    "                l.append(key)\n",
    "               \n",
    "                k=key\n",
    "   #l.append(k)            \n",
    "    return l"
   ]
  },
  {
   "cell_type": "code",
   "execution_count": 2,
   "metadata": {},
   "outputs": [],
   "source": [
    "def solution(d):\n",
    "    l1=[]\n",
    "    k=0\n",
    "    for key, value in d.items():\n",
    "        if value==k:\n",
    "            l2=findrout(k,dict(list(d.items())[key+1:]))\n",
    "            l1.append(l2) \n",
    "    m=max(l1) \n",
    "    print(m)\n",
    "    return m"
   ]
  },
  {
   "cell_type": "code",
   "execution_count": 3,
   "metadata": {},
   "outputs": [
    {
     "name": "stdout",
     "output_type": "stream",
     "text": [
      "[0, 9]\n",
      "[0, 9]\n"
     ]
    }
   ],
   "source": [
    "T=[0,9,0,2,6,8,0,8,3,0]\n",
    "T1=[0, 0, 0, 1, 6, 1, 0, 0]\n",
    "d={k: v for k, v in enumerate(T)}\n",
    "print(solution(d))"
   ]
  },
  {
   "cell_type": "code",
   "execution_count": null,
   "metadata": {},
   "outputs": [],
   "source": [
    "l1"
   ]
  },
  {
   "cell_type": "code",
   "execution_count": null,
   "metadata": {},
   "outputs": [],
   "source": [
    "def findrout(k,dic):\n",
    "    l=[0]\n",
    "    #while k==0\n",
    "    flag=0\n",
    "    \n",
    "    for key, value in dic.items(): \n",
    "            if value == k and key!=0:\n",
    "               \n",
    "                l.append(key)\n",
    "               \n",
    "                k=key\n",
    "   #l.append(k)            \n",
    "    return l"
   ]
  },
  {
   "cell_type": "code",
   "execution_count": null,
   "metadata": {},
   "outputs": [],
   "source": [
    "def is_odd(number):\n",
    "    return number % 2"
   ]
  },
  {
   "cell_type": "code",
   "execution_count": null,
   "metadata": {},
   "outputs": [],
   "source": [
    "findrout(0,d)"
   ]
  },
  {
   "cell_type": "code",
   "execution_count": null,
   "metadata": {},
   "outputs": [],
   "source": [
    "def has_odd_number(T):\n",
    "    return any(map(is_odd, T))"
   ]
  },
  {
   "cell_type": "code",
   "execution_count": null,
   "metadata": {},
   "outputs": [],
   "source": [
    "has_odd_number(T)"
   ]
  },
  {
   "cell_type": "code",
   "execution_count": 18,
   "metadata": {},
   "outputs": [],
   "source": [
    "def F(n):\n",
    "    if n == 0: return 0\n",
    "    elif n == 1: return 1\n",
    "    else: \n",
    "        return F(n-1)+F(n-2)"
   ]
  },
  {
   "cell_type": "code",
   "execution_count": 20,
   "metadata": {},
   "outputs": [
    {
     "data": {
      "text/plain": [
       "21"
      ]
     },
     "execution_count": 20,
     "metadata": {},
     "output_type": "execute_result"
    }
   ],
   "source": [
    "F(8)"
   ]
  },
  {
   "cell_type": "code",
   "execution_count": null,
   "metadata": {},
   "outputs": [],
   "source": []
  }
 ],
 "metadata": {
  "kernelspec": {
   "display_name": "Python 3",
   "language": "python",
   "name": "python3"
  },
  "language_info": {
   "codemirror_mode": {
    "name": "ipython",
    "version": 3
   },
   "file_extension": ".py",
   "mimetype": "text/x-python",
   "name": "python",
   "nbconvert_exporter": "python",
   "pygments_lexer": "ipython3",
   "version": "3.8.5"
  }
 },
 "nbformat": 4,
 "nbformat_minor": 4
}
