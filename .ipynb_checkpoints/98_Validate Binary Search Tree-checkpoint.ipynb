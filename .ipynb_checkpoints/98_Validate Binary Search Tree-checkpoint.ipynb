{
 "cells": [
  {
   "cell_type": "markdown",
   "metadata": {},
   "source": [
    "Given a binary tree, determine if it is a valid binary search tree (BST).\n",
    "\n",
    "Assume a BST is defined as follows:\n",
    "\n",
    "- The left subtree of a node contains only nodes with keys less than the node's key.\n",
    "- The right subtree of a node contains only nodes with keys greater than the node's key.\n",
    "- Both the left and right subtrees must also be binary search trees.\n",
    " "
   ]
  },
  {
   "cell_type": "code",
   "execution_count": 27,
   "metadata": {},
   "outputs": [],
   "source": [
    "# Definition for a binary tree node.\n",
    "class Node(object):  \n",
    "    def __init__(self,data):  \n",
    "        self.left = None\n",
    "        self.right = None\n",
    "        self.val = data  \n",
    "class Solution(object):\n",
    "    def __init__(self, root):\n",
    "        self.root=Node(root)\n",
    "        \n",
    "    def isValidBST(self, root) :\n",
    "        return self.helper(root, float('-inf'), float('inf'))\n",
    "    \n",
    "    def helper(self, root, minValue, maxValue):\n",
    "        if root is None: \n",
    "            return True \n",
    "        if (root.val<=minValue or root.val>=maxValue):\n",
    "            return False \n",
    "        validLeftTree=self.helper(root.left, minValue, root.val)\n",
    "        validRightTree=self.helper(root.right, root.val, maxValue)\n",
    "        return validLeftTree and validRightTree"
   ]
  },
  {
   "cell_type": "code",
   "execution_count": 28,
   "metadata": {},
   "outputs": [],
   "source": [
    "#sol=Solution()"
   ]
  },
  {
   "cell_type": "code",
   "execution_count": 31,
   "metadata": {},
   "outputs": [],
   "source": [
    "tree=Solution(2)\n",
    "tree.root.left=Node(1)\n",
    "tree.root.right=Node(3)\n",
    "#tree.root.left.left=Node(4)"
   ]
  },
  {
   "cell_type": "code",
   "execution_count": 32,
   "metadata": {},
   "outputs": [
    {
     "data": {
      "text/plain": [
       "True"
      ]
     },
     "execution_count": 32,
     "metadata": {},
     "output_type": "execute_result"
    }
   ],
   "source": [
    "tree.isValidBST(tree.root)"
   ]
  },
  {
   "cell_type": "code",
   "execution_count": null,
   "metadata": {},
   "outputs": [],
   "source": []
  }
 ],
 "metadata": {
  "kernelspec": {
   "display_name": "Python 3",
   "language": "python",
   "name": "python3"
  },
  "language_info": {
   "codemirror_mode": {
    "name": "ipython",
    "version": 3
   },
   "file_extension": ".py",
   "mimetype": "text/x-python",
   "name": "python",
   "nbconvert_exporter": "python",
   "pygments_lexer": "ipython3",
   "version": "3.8.5"
  }
 },
 "nbformat": 4,
 "nbformat_minor": 4
}
