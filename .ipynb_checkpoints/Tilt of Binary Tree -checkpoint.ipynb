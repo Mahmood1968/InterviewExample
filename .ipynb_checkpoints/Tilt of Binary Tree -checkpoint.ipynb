{
 "cells": [
  {
   "cell_type": "code",
   "execution_count": 3,
   "metadata": {},
   "outputs": [
    {
     "name": "stdout",
     "output_type": "stream",
     "text": [
      "The Tilt of whole tree is 15\n"
     ]
    }
   ],
   "source": [
    "# Python3 Program to find Tilt of \n",
    "# Binary Tree \n",
    "\n",
    "# class that allocates a new node \n",
    "# with the given data and \n",
    "# None left and right pointers. \n",
    "class newNode: \n",
    "    def __init__(self, data): \n",
    "        self.val = data \n",
    "        self.left = None\n",
    "        self.right = None\n",
    "\n",
    "# Recursive function to calculate \n",
    "# Tilt of whole tree \n",
    "def traverse(root, tilt): \n",
    "    if (not root): \n",
    "        return 0\n",
    "\n",
    "    # Compute tilts of left and right subtrees \n",
    "    # and find sums of left and right subtrees \n",
    "    left = traverse(root.left, tilt) \n",
    "    right = traverse(root.right, tilt) \n",
    "\n",
    "    # Add current tilt to overall \n",
    "    tilt[0] += abs(left - right) \n",
    "\n",
    "    # Returns sum of nodes under \n",
    "    # current tree \n",
    "    return left + right + root.val \n",
    "\n",
    "# Driver function to print Tilt \n",
    "# of whole tree \n",
    "def Tilt(root): \n",
    "    tilt = [0] \n",
    "    traverse(root, tilt) \n",
    "    return tilt[0] \n",
    "\n",
    "# Driver code \n",
    "if __name__ == '__main__': \n",
    "\n",
    "    # Let us construct a Binary Tree \n",
    "    #\t 4 \n",
    "    # / \\ \n",
    "    # 2 9 \n",
    "    # / \\ \\ \n",
    "    # 3 5 7 \n",
    "    root = None\n",
    "    root = newNode(4) \n",
    "    root.left = newNode(2) \n",
    "    root.right = newNode(9) \n",
    "    root.left.left = newNode(3) \n",
    "    root.left.right = newNode(8) \n",
    "    root.right.right = newNode(7) \n",
    "    print(\"The Tilt of whole tree is\", \n",
    "                        Tilt(root)) \n",
    "\n",
    "# This code is contributed by PranchalK \n"
   ]
  },
  {
   "cell_type": "code",
   "execution_count": null,
   "metadata": {},
   "outputs": [],
   "source": []
  }
 ],
 "metadata": {
  "kernelspec": {
   "display_name": "Python 3",
   "language": "python",
   "name": "python3"
  },
  "language_info": {
   "codemirror_mode": {
    "name": "ipython",
    "version": 3
   },
   "file_extension": ".py",
   "mimetype": "text/x-python",
   "name": "python",
   "nbconvert_exporter": "python",
   "pygments_lexer": "ipython3",
   "version": "3.8.5"
  }
 },
 "nbformat": 4,
 "nbformat_minor": 4
}
