{
 "cells": [
  {
   "cell_type": "markdown",
   "metadata": {},
   "source": [
    "Given a time represented in the format \"HH:MM\", form the next closest time by reusing the current digits. \n",
    "There is no limit on how many times a digit can be reused.\n",
    "\n",
    "You may assume the given input string is always valid. \n",
    "For example, \"01:34\", \"12:09\" are all valid. \"1:34\", \"12:9\" are all invalid.\n",
    "\n",
    "Example 1:\n",
    "\n",
    "Input: \"19:34\"\n",
    "Output: \"19:39\"\n",
    "Explanation: The next closest time choosing from digits 1, 9, 3, 4, is 19:39, which occurs 5 minutes later.  \n",
    "It is not 19:33, because this occurs 23 hours and 59 minutes later.\n",
    "\n",
    "Example 2:\n",
    "\n",
    "Input: \"23:59\"\n",
    "Output: \"22:22\"\n",
    "Explanation: The next closest time choosing from digits 2, 3, 5, 9, is 22:22. \n",
    "It may be assumed that the returned time is next day's time since it is smaller than the input time numerically."
   ]
  },
  {
   "cell_type": "code",
   "execution_count": null,
   "metadata": {},
   "outputs": [],
   "source": [
    "class Solution:\n",
    "    def nextClosestTime(self, time: str) -> str:\n",
    "           \n",
    "        s = set(time)\n",
    "        hour = int(time[0:2])\n",
    "        minute = int(time[3:5])\n",
    "        while True:\n",
    "            minute += 1\n",
    "            if minute == 60:\n",
    "                minute = 0\n",
    "                hour = 0 if hour == 23 else hour + 1\n",
    "            \n",
    "            time = \"%02d:%02d\" % (hour, minute)\n",
    "            if set(time) <= s:\n",
    "                return time\n",
    "        return time"
   ]
  }
 ],
 "metadata": {
  "kernelspec": {
   "display_name": "Python 3",
   "language": "python",
   "name": "python3"
  },
  "language_info": {
   "codemirror_mode": {
    "name": "ipython",
    "version": 3
   },
   "file_extension": ".py",
   "mimetype": "text/x-python",
   "name": "python",
   "nbconvert_exporter": "python",
   "pygments_lexer": "ipython3",
   "version": "3.8.5"
  }
 },
 "nbformat": 4,
 "nbformat_minor": 4
}
