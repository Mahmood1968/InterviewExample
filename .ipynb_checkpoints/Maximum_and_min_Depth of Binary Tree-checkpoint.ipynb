{
 "cells": [
  {
   "cell_type": "code",
   "execution_count": 4,
   "metadata": {},
   "outputs": [],
   "source": [
    "class Node(object):  \n",
    "    def __init__(self,data):  \n",
    "        self.leftPtr = None\n",
    "        self.rightPtr = None\n",
    "        self.val = data  "
   ]
  },
  {
   "cell_type": "code",
   "execution_count": 7,
   "metadata": {},
   "outputs": [],
   "source": [
    "class BST(object):  \n",
    "    def __init__(self,data):  \n",
    "        self.leftPtr = None\n",
    "        self.rightPtr = None\n",
    "        self.val = data \n",
    "        \n",
    "    def insert(self, root,key):  \n",
    "        if root is None:  \n",
    "            return Node(key)  \n",
    "        else: \n",
    "            if root.val == key: \n",
    "                return root \n",
    "            elif root.val < key:  \n",
    "                root.rightPtr = self.insert(root.rightPtr, key)  \n",
    "            else: \n",
    "                root.leftPtr = self.insert(root.leftPtr, key) \n",
    "        return root \n",
    "    \n",
    "    def maxDepth(self,  root): \n",
    "        if root is None: \n",
    "            return 0 ;  \n",
    "\n",
    "        else : # Compute the depth of each subtree \n",
    "            lDepth = self.maxDepth(root.leftPtr) \n",
    "            rDepth = self.maxDepth(root.rightPtr) \n",
    "\n",
    "            # Use the larger one \n",
    "            if (lDepth > rDepth): \n",
    "                return lDepth+1\n",
    "            else: \n",
    "                return rDepth+1\n",
    "   "
   ]
  },
  {
   "cell_type": "code",
   "execution_count": null,
   "metadata": {},
   "outputs": [],
   "source": []
  },
  {
   "cell_type": "code",
   "execution_count": 8,
   "metadata": {},
   "outputs": [
    {
     "data": {
      "text/plain": [
       "<__main__.BST at 0x23c2053d7f0>"
      ]
     },
     "execution_count": 8,
     "metadata": {},
     "output_type": "execute_result"
    }
   ],
   "source": [
    "# Driver program to test above function \n",
    "root = BST(50)  \n",
    "root.insert(root, 30)  \n",
    "root.insert(root, 20)  \n",
    "root.insert(root, 40)  \n",
    "root.insert(root, 70)  \n",
    "root.insert(root, 60)  \n",
    "root.insert(root, 80)  "
   ]
  },
  {
   "cell_type": "code",
   "execution_count": 9,
   "metadata": {},
   "outputs": [
    {
     "name": "stdout",
     "output_type": "stream",
     "text": [
      "Height of tree is = 3\n"
     ]
    }
   ],
   "source": [
    "print(\"Height of tree is =\", (root.maxDepth(root))) "
   ]
  },
  {
   "cell_type": "code",
   "execution_count": null,
   "metadata": {},
   "outputs": [],
   "source": []
  }
 ],
 "metadata": {
  "kernelspec": {
   "display_name": "Python 3",
   "language": "python",
   "name": "python3"
  },
  "language_info": {
   "codemirror_mode": {
    "name": "ipython",
    "version": 3
   },
   "file_extension": ".py",
   "mimetype": "text/x-python",
   "name": "python",
   "nbconvert_exporter": "python",
   "pygments_lexer": "ipython3",
   "version": "3.8.5"
  }
 },
 "nbformat": 4,
 "nbformat_minor": 4
}
