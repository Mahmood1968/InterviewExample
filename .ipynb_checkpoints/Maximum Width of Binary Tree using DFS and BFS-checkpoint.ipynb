{
 "cells": [
  {
   "cell_type": "markdown",
   "metadata": {},
   "source": [
    "### Maximum Width of Binary Tree\n",
    "Given a binary tree, write a function to get the maximum width of the given tree. The maximum width of a tree is the maximum width among all levels.\n",
    "\n",
    "The width of one level is defined as the length between the end-nodes (the leftmost and right most non-null nodes in the level, where the null nodes between the end-nodes are also counted into the length calculation.\n",
    "\n",
    "It is guaranteed that the answer will in the range of 32-bit signed integer.\n",
    "\n",
    "Example 1:\n",
    "\n",
    "Input: \n",
    "\n",
    "           1\n",
    "         /   \\\n",
    "        3     2\n",
    "       / \\     \\  \n",
    "      5   3     9 \n",
    "      \n",
    "output : 4 \n",
    "\n",
    "Example 2:\n",
    "\n",
    "Input: \n",
    "\n",
    "          1\n",
    "         /  \n",
    "        3    \n",
    "       / \\       \n",
    "      5   3     \n",
    "\n",
    "Output: 2\n",
    "Explanation: The maximum width existing in the third level with the length 2 (5,3)."
   ]
  },
  {
   "cell_type": "code",
   "execution_count": 20,
   "metadata": {},
   "outputs": [],
   "source": [
    "# Definition for a binary tree node.\n",
    "class TreeNode(object):\n",
    "    def __init__(self, val=0, left=None, right=None):\n",
    "        self.val = val\n",
    "        self.left = left\n",
    "        self.right = right"
   ]
  },
  {
   "cell_type": "markdown",
   "metadata": {},
   "source": [
    "## DFS approach \n",
    "-  create a table that contains the first col_index for each level\n",
    "- set the max width to 0 \n",
    "- check if node is None the return no thing \n",
    "- if depth not in table-col-indx  add it to table as depth is key and col_indx is value \n",
    "- compute the max_width= max(max_width, first_col_idx[depth]+1)\n",
    "- check left chid  and use depth as key and col_indx and vlaue \n",
    "- check right child and use depth as key and col_indx and vlaue\n",
    "- return the max_width "
   ]
  },
  {
   "cell_type": "markdown",
   "metadata": {},
   "source": [
    "## BDS apprach \n",
    "- First of all, we create a queue data structure, which would be used to hold elements of tuple as (node, col_index), where the node is the tree node and the col_index is the corresponding index that is assigned to the node based on our indexing schema. Also, we define a global variable called max_width which holds the maximal width that we've seen so far.\n",
    "\n",
    "Then we append the root node along with its index 0, to kick off the BFS traversal.\n",
    "\n",
    "    - The BFS traversal is basically an iteration over the elements of queue. We visit the nodes level by level until there are no more elements in the queue.\n",
    "\n",
    "    - At the end of each level, we use the indices of the first and the last elements on the same level, in order to obtain the width of the level.\n",
    "- At the end of BFS traversal, we then return the maximal width that we've seen over all levels.\n",
    "\n"
   ]
  },
  {
   "cell_type": "code",
   "execution_count": 32,
   "metadata": {},
   "outputs": [],
   "source": [
    "class Solution(object):\n",
    "    def __init__(self, root):\n",
    "        self.root=TreeNode(root)\n",
    "    def widthOfBinaryTree(self, root: TreeNode) -> int:\n",
    "\n",
    "        # table contains the first col_index for each level\n",
    "        first_col_index_table = {}\n",
    "        max_width = 0\n",
    "# DFS Traversal\n",
    "        def DFS(node, depth, col_index):\n",
    "            nonlocal max_width\n",
    "            if node is None:\n",
    "                return\n",
    "            # if the entry is empty, set the value\n",
    "            if depth not in first_col_index_table:\n",
    "                first_col_index_table[depth] = col_index\n",
    "\n",
    "            max_width = max(max_width, col_index - first_col_index_table[depth] + 1)\n",
    "\n",
    "            # Preorder DFS, with the priority on the left child\n",
    "            DFS(node.left, depth+1, 2*col_index)\n",
    "            DFS(node.right, depth+1, 2*col_index + 1)\n",
    "\n",
    "        DFS(root, 0, 0)\n",
    "\n",
    "        return max_width\n",
    "    \n",
    "    \n",
    "# USINF BFS  (Approach 1: BFS Traversal  )\n",
    "    def widthOfBinaryTree(self, root: TreeNode) -> int:\n",
    "        if not root:\n",
    "            return 0\n",
    "        qu = [(root,1)]\n",
    "        maxw = 0\n",
    "        while qu: \n",
    "            maxw = max(maxw, qu[0][1]-qu[-1][1])\n",
    "            qu = [child for node, nodenumber in qu \n",
    "                  for child in ((node.right, nodenumber*2 + 1), (node.left, nodenumber*2)) if child[0]]\n",
    "        return maxw+1\n",
    "    "
   ]
  },
  {
   "cell_type": "code",
   "execution_count": 33,
   "metadata": {},
   "outputs": [],
   "source": [
    "tree=Solution(1)\n",
    "tree.root.left=TreeNode(3)\n",
    "tree.root.right=TreeNode(2)\n",
    "tree.root.left.left=TreeNode(5)\n",
    "tree.root.left.right=TreeNode(3)\n",
    "\n",
    "tree.root.right=TreeNode(2)\n",
    "tree.root.right.right=TreeNode(9)"
   ]
  },
  {
   "cell_type": "code",
   "execution_count": 34,
   "metadata": {},
   "outputs": [
    {
     "data": {
      "text/plain": [
       "4"
      ]
     },
     "execution_count": 34,
     "metadata": {},
     "output_type": "execute_result"
    }
   ],
   "source": [
    "tree.widthOfBinaryTree(tree.root)"
   ]
  },
  {
   "cell_type": "code",
   "execution_count": 35,
   "metadata": {},
   "outputs": [
    {
     "data": {
      "text/plain": [
       "4"
      ]
     },
     "execution_count": 35,
     "metadata": {},
     "output_type": "execute_result"
    }
   ],
   "source": [
    "tree.widthOfBinaryTree(tree.root)"
   ]
  },
  {
   "cell_type": "code",
   "execution_count": 36,
   "metadata": {},
   "outputs": [],
   "source": [
    "tree=Solution(1)\n",
    "tree.root.left=TreeNode(3)\n",
    "tree.root.right=TreeNode(5)\n",
    "tree.root.left.left=TreeNode(3)\n"
   ]
  },
  {
   "cell_type": "code",
   "execution_count": 37,
   "metadata": {},
   "outputs": [
    {
     "data": {
      "text/plain": [
       "2"
      ]
     },
     "execution_count": 37,
     "metadata": {},
     "output_type": "execute_result"
    }
   ],
   "source": [
    "tree.widthOfBinaryTree(tree.root)"
   ]
  },
  {
   "cell_type": "code",
   "execution_count": 38,
   "metadata": {},
   "outputs": [
    {
     "data": {
      "text/plain": [
       "1"
      ]
     },
     "execution_count": 38,
     "metadata": {},
     "output_type": "execute_result"
    }
   ],
   "source": [
    "3//2"
   ]
  },
  {
   "cell_type": "code",
   "execution_count": null,
   "metadata": {},
   "outputs": [],
   "source": []
  },
  {
   "cell_type": "code",
   "execution_count": 39,
   "metadata": {},
   "outputs": [
    {
     "data": {
      "text/plain": [
       "2"
      ]
     },
     "execution_count": 39,
     "metadata": {},
     "output_type": "execute_result"
    }
   ],
   "source": [
    "tree.widthOfBinaryTree(tree.root)"
   ]
  },
  {
   "cell_type": "code",
   "execution_count": null,
   "metadata": {},
   "outputs": [],
   "source": []
  }
 ],
 "metadata": {
  "kernelspec": {
   "display_name": "Python 3",
   "language": "python",
   "name": "python3"
  },
  "language_info": {
   "codemirror_mode": {
    "name": "ipython",
    "version": 3
   },
   "file_extension": ".py",
   "mimetype": "text/x-python",
   "name": "python",
   "nbconvert_exporter": "python",
   "pygments_lexer": "ipython3",
   "version": "3.8.5"
  }
 },
 "nbformat": 4,
 "nbformat_minor": 4
}
