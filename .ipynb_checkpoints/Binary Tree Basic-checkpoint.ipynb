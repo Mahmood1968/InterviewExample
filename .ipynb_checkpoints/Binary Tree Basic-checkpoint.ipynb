{
 "cells": [
  {
   "cell_type": "markdown",
   "metadata": {},
   "source": [
    "### Binary Search Tree\n",
    "   Binary Search Tree, is a node-based binary tree data structure which has the following properties:\n",
    "1. The left subtree of a node contains only nodes with keys lesser than the node’s key.\n",
    "2. The right subtree of a node contains only nodes with keys greater than the node’s key.\n",
    "3. The left and right subtree each must also be a binary search tree.\n",
    "4. There must be no duplicate nodes."
   ]
  },
  {
   "cell_type": "code",
   "execution_count": 26,
   "metadata": {},
   "outputs": [],
   "source": [
    "class Node:  \n",
    "    def __init__(self,data):  \n",
    "        self.leftPtr = None\n",
    "        self.rightPtr = None\n",
    "        self.data = data  \n",
    "        \n",
    "    \n",
    "    def PrintTree(self):\n",
    "        print(self.data)  "
   ]
  },
  {
   "cell_type": "markdown",
   "metadata": {},
   "source": [
    "### Print the root Node with initial value 10 "
   ]
  },
  {
   "cell_type": "code",
   "execution_count": 27,
   "metadata": {},
   "outputs": [],
   "source": [
    "root=Node(10)"
   ]
  },
  {
   "cell_type": "code",
   "execution_count": 28,
   "metadata": {},
   "outputs": [
    {
     "name": "stdout",
     "output_type": "stream",
     "text": [
      "10\n"
     ]
    }
   ],
   "source": [
    "root.PrintTree()"
   ]
  },
  {
   "cell_type": "code",
   "execution_count": 59,
   "metadata": {},
   "outputs": [],
   "source": [
    "  \n",
    "def insert(root,key):  \n",
    "    if root is None:  \n",
    "        return Node(key)  \n",
    "    else: \n",
    "        if root.val == key: \n",
    "            return root \n",
    "        elif root.val < key:  \n",
    "            root.rightPtr = insert(root.rightPtr, key)  \n",
    "        else: \n",
    "            root.leftPtr = insert(root.leftPtr, key) \n",
    "    return root \n",
    "\n",
    "# A utility function to do inorder tree traversal  \n",
    "def inorder(root):  \n",
    "    if root:  \n",
    "        inorder(root.leftPtr)  \n",
    "        print(root.val)  \n",
    "        inorder(root.rightPtr)  \n",
    "def preorder(root):\n",
    "    if root:\n",
    "        print(root.val)\n",
    "        \n",
    "        preorder(root.leftPtr)\n",
    "        preorder(root.rightPtr)\n",
    "        \n",
    "def postorder(root):\n",
    "    if root:\n",
    "        preorder(root.leftPtr)\n",
    "        \n",
    "        preorder(root.rightPtr) \n",
    "        print(root.val)"
   ]
  },
  {
   "cell_type": "code",
   "execution_count": 3,
   "metadata": {},
   "outputs": [
    {
     "ename": "AttributeError",
     "evalue": "'Node' object has no attribute 'data'",
     "output_type": "error",
     "traceback": [
      "\u001b[1;31m---------------------------------------------------------------------------\u001b[0m",
      "\u001b[1;31mAttributeError\u001b[0m                            Traceback (most recent call last)",
      "\u001b[1;32m<ipython-input-3-3d3ba41d082b>\u001b[0m in \u001b[0;36m<module>\u001b[1;34m\u001b[0m\n\u001b[1;32m----> 1\u001b[1;33m \u001b[0mprint\u001b[0m\u001b[1;33m(\u001b[0m\u001b[0mroot\u001b[0m\u001b[1;33m.\u001b[0m\u001b[0mdata\u001b[0m\u001b[1;33m)\u001b[0m\u001b[1;33m\u001b[0m\u001b[1;33m\u001b[0m\u001b[0m\n\u001b[0m",
      "\u001b[1;31mAttributeError\u001b[0m: 'Node' object has no attribute 'data'"
     ]
    }
   ],
   "source": [
    "print(root.data)"
   ]
  },
  {
   "cell_type": "code",
   "execution_count": 60,
   "metadata": {},
   "outputs": [],
   "source": [
    "root = Node(50)  \n",
    "root = insert(root, 30)  \n",
    "root = insert(root, 20)  \n",
    "root = insert(root, 40)  \n",
    "root = insert(root, 70)  \n",
    "root = insert(root, 60)  \n",
    "root = insert(root, 80)  "
   ]
  },
  {
   "cell_type": "code",
   "execution_count": 61,
   "metadata": {},
   "outputs": [
    {
     "name": "stdout",
     "output_type": "stream",
     "text": [
      "20\n",
      "30\n",
      "40\n",
      "50\n",
      "60\n",
      "70\n",
      "80\n"
     ]
    }
   ],
   "source": [
    "inorder(root)"
   ]
  },
  {
   "cell_type": "code",
   "execution_count": 62,
   "metadata": {},
   "outputs": [
    {
     "name": "stdout",
     "output_type": "stream",
     "text": [
      "50\n",
      "30\n",
      "20\n",
      "40\n",
      "70\n",
      "60\n",
      "80\n"
     ]
    }
   ],
   "source": [
    "preorder(root)"
   ]
  },
  {
   "cell_type": "code",
   "execution_count": 63,
   "metadata": {},
   "outputs": [
    {
     "name": "stdout",
     "output_type": "stream",
     "text": [
      "30\n",
      "20\n",
      "40\n",
      "70\n",
      "60\n",
      "80\n",
      "50\n"
     ]
    }
   ],
   "source": [
    "postorder(root)"
   ]
  },
  {
   "cell_type": "code",
   "execution_count": null,
   "metadata": {},
   "outputs": [],
   "source": []
  }
 ],
 "metadata": {
  "kernelspec": {
   "display_name": "Python 3",
   "language": "python",
   "name": "python3"
  },
  "language_info": {
   "codemirror_mode": {
    "name": "ipython",
    "version": 3
   },
   "file_extension": ".py",
   "mimetype": "text/x-python",
   "name": "python",
   "nbconvert_exporter": "python",
   "pygments_lexer": "ipython3",
   "version": "3.8.3"
  }
 },
 "nbformat": 4,
 "nbformat_minor": 4
}
