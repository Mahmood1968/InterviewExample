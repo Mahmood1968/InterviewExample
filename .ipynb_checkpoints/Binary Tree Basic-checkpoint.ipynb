{
 "cells": [
  {
   "cell_type": "markdown",
   "metadata": {},
   "source": [
    "### Binary Search Tree\n",
    "   Binary Search Tree, is a node-based binary tree data structure which has the following properties:\n",
    "1. The left subtree of a node contains only nodes with keys lesser than the node’s key.\n",
    "2. The right subtree of a node contains only nodes with keys greater than the node’s key.\n",
    "3. The left and right subtree each must also be a binary search tree.\n",
    "4. There must be no duplicate nodes."
   ]
  },
  {
   "cell_type": "code",
   "execution_count": 8,
   "metadata": {},
   "outputs": [],
   "source": [
    "class Node(object):  \n",
    "    def __init__(self,data):  \n",
    "        self.leftPtr = None\n",
    "        self.rightPtr = None\n",
    "        self.val = data  \n",
    "    "
   ]
  },
  {
   "cell_type": "markdown",
   "metadata": {},
   "source": [
    "### Print the root Node with initial value 10 "
   ]
  },
  {
   "cell_type": "code",
   "execution_count": 23,
   "metadata": {},
   "outputs": [],
   "source": [
    "class BST(object):  \n",
    "    def __init__(self,data):  \n",
    "        self.leftPtr = None\n",
    "        self.rightPtr = None\n",
    "        self.val = data \n",
    "        \n",
    "    def insert(self, root,key):  \n",
    "        if root is None:  \n",
    "            return Node(key)  \n",
    "        else: \n",
    "            if root.val == key: \n",
    "                return root \n",
    "            elif root.val < key:  \n",
    "                root.rightPtr = self.insert(root.rightPtr, key)  \n",
    "            else: \n",
    "                root.leftPtr = self.insert(root.leftPtr, key) \n",
    "        return root \n",
    "\n",
    "    # A utility function to do inorder tree traversal  \n",
    "    def inorder(self, root):  \n",
    "        if root:  \n",
    "            self.inorder(root.leftPtr)  \n",
    "            print(root.val)  \n",
    "            self.inorder(root.rightPtr)  \n",
    "    def preorder(self, root):\n",
    "        if root:\n",
    "            print(root.val)\n",
    "\n",
    "            self.preorder(root.leftPtr)\n",
    "            self.preorder(root.rightPtr)\n",
    "\n",
    "    def postorder(self, root):\n",
    "        if root:\n",
    "            self.preorder(root.leftPtr)\n",
    "\n",
    "            self.preorder(root.rightPtr) \n",
    "            print(root.val)"
   ]
  },
  {
   "cell_type": "code",
   "execution_count": 24,
   "metadata": {},
   "outputs": [],
   "source": [
    "#print(root.data)"
   ]
  },
  {
   "cell_type": "code",
   "execution_count": 25,
   "metadata": {},
   "outputs": [
    {
     "data": {
      "text/plain": [
       "<__main__.BST at 0x1f5ea5e3490>"
      ]
     },
     "execution_count": 25,
     "metadata": {},
     "output_type": "execute_result"
    }
   ],
   "source": [
    "root = BST(50)  \n",
    "root.insert(root, 30)  \n",
    "root.insert(root, 20)  \n",
    "root.insert(root, 40)  \n",
    "root.insert(root, 70)  \n",
    "root.insert(root, 60)  \n",
    "root.insert(root, 80)  "
   ]
  },
  {
   "cell_type": "code",
   "execution_count": 26,
   "metadata": {},
   "outputs": [
    {
     "name": "stdout",
     "output_type": "stream",
     "text": [
      "20\n",
      "30\n",
      "40\n",
      "50\n",
      "60\n",
      "70\n",
      "80\n"
     ]
    }
   ],
   "source": [
    "root.inorder(root)"
   ]
  },
  {
   "cell_type": "code",
   "execution_count": 29,
   "metadata": {},
   "outputs": [
    {
     "name": "stdout",
     "output_type": "stream",
     "text": [
      "50\n",
      "30\n",
      "20\n",
      "40\n",
      "70\n",
      "60\n",
      "80\n"
     ]
    }
   ],
   "source": [
    "root.preorder(root)"
   ]
  },
  {
   "cell_type": "code",
   "execution_count": 30,
   "metadata": {},
   "outputs": [
    {
     "name": "stdout",
     "output_type": "stream",
     "text": [
      "30\n",
      "20\n",
      "40\n",
      "70\n",
      "60\n",
      "80\n",
      "50\n"
     ]
    }
   ],
   "source": [
    "root.postorder(root)"
   ]
  },
  {
   "cell_type": "code",
   "execution_count": null,
   "metadata": {},
   "outputs": [],
   "source": []
  }
 ],
 "metadata": {
  "kernelspec": {
   "display_name": "Python 3",
   "language": "python",
   "name": "python3"
  },
  "language_info": {
   "codemirror_mode": {
    "name": "ipython",
    "version": 3
   },
   "file_extension": ".py",
   "mimetype": "text/x-python",
   "name": "python",
   "nbconvert_exporter": "python",
   "pygments_lexer": "ipython3",
   "version": "3.8.5"
  }
 },
 "nbformat": 4,
 "nbformat_minor": 4
}
