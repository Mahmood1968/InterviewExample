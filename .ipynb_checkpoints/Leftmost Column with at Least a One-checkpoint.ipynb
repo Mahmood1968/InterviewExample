{
 "cells": [
  {
   "cell_type": "markdown",
   "metadata": {},
   "source": [
    "## Leftmost Column with at Least a One\n",
    "you probably gained some intuitive sense as to why this works, just from watching the animation.\n",
    "\n",
    "When we encounter a 0, we know that the leftmost 1 can't be to the left of it.\n",
    "When we encounter a 1, we should continue the search on that row (move pointer to the left),\n",
    "in order to find an even smaller index."
   ]
  },
  {
   "cell_type": "markdown",
   "metadata": {},
   "source": [
    "A binary matrix means that all elements are 0 or 1. For each individual row of the matrix,\n",
    "this row is sorted in non-decreasing order.\n",
    "\n",
    "Given a row-sorted binary matrix binaryMatrix, return leftmost column index(0-indexed) with at least a 1 in it. \n",
    "If such index doesn't exist, return -1.\n",
    "\n",
    "You can't access the Binary Matrix directly.  You may only access the matrix using a BinaryMatrix interface:\n",
    "\n",
    "BinaryMatrix.get(row, col) returns the element of the matrix at index (row, col) (0-indexed).\n",
    "BinaryMatrix.dimensions() returns a list of 2 elements [rows, cols], which means the matrix is rows * cols.\n",
    "Submissions making more than 1000 calls to BinaryMatrix.get will be judged Wrong Answer. \n",
    "Also, any solutions that attempt to circumvent the judge will result in disqualification.\n",
    "\n",
    "For custom testing purposes you're given the binary matrix mat as input in the following four examples. You will not have access the binary matrix directly."
   ]
  },
  {
   "cell_type": "code",
   "execution_count": 106,
   "metadata": {},
   "outputs": [],
   "source": [
    "class Solution:\n",
    "    def __init__(self,nums):\n",
    "        self.nums=nums\n",
    "    def leftMostColumnWithOne(self, binaryMatrix) :\n",
    "        import numpy as np\n",
    "        M= np.array(binaryMatrix)\n",
    "        rows, cols = M.shape\n",
    "        \n",
    "        # Set pointers to the top-right corner.\n",
    "        current_row = 0\n",
    "        current_col = cols - 1\n",
    "        \n",
    "        # Repeat the search until it goes off the grid.\n",
    "        while current_row < rows and current_col >= 0:\n",
    "            if M[current_row, current_col] == 0:\n",
    "                current_row += 1\n",
    "            else:\n",
    "                current_col -= 1\n",
    "        \n",
    "        # If we never left the last column, it must have been all 0's.\n",
    "        print(current_col)\n",
    "        return current_col + 1 if (current_col != (cols-1)) else -1"
   ]
  },
  {
   "cell_type": "code",
   "execution_count": 107,
   "metadata": {},
   "outputs": [],
   "source": [
    "import numpy as np\n",
    "mat = np.array([[1,0],[0,0]])"
   ]
  },
  {
   "cell_type": "code",
   "execution_count": 108,
   "metadata": {},
   "outputs": [
    {
     "data": {
      "text/plain": [
       "array([[1, 0],\n",
       "       [0, 0]])"
      ]
     },
     "execution_count": 108,
     "metadata": {},
     "output_type": "execute_result"
    }
   ],
   "source": [
    "mat"
   ]
  },
  {
   "cell_type": "code",
   "execution_count": 109,
   "metadata": {},
   "outputs": [],
   "source": [
    "A=Solution(mat)"
   ]
  },
  {
   "cell_type": "code",
   "execution_count": 110,
   "metadata": {},
   "outputs": [
    {
     "name": "stdout",
     "output_type": "stream",
     "text": [
      "1\n"
     ]
    },
    {
     "data": {
      "text/plain": [
       "-1"
      ]
     },
     "execution_count": 110,
     "metadata": {},
     "output_type": "execute_result"
    }
   ],
   "source": [
    "A.leftMostColumnWithOne(mat)"
   ]
  },
  {
   "cell_type": "code",
   "execution_count": 111,
   "metadata": {},
   "outputs": [],
   "source": [
    "mat2=np.array([[0, 0, 0, 0],\n",
    " [0, 0, 0, 0],\n",
    " [0, 0, 0, 0],\n",
    " [0, 0, 1, 1]])"
   ]
  },
  {
   "cell_type": "code",
   "execution_count": 112,
   "metadata": {},
   "outputs": [
    {
     "data": {
      "text/plain": [
       "array([[0, 0, 0, 0],\n",
       "       [0, 0, 0, 0],\n",
       "       [0, 0, 0, 0],\n",
       "       [0, 0, 1, 1]])"
      ]
     },
     "execution_count": 112,
     "metadata": {},
     "output_type": "execute_result"
    }
   ],
   "source": [
    "mat2"
   ]
  },
  {
   "cell_type": "code",
   "execution_count": 113,
   "metadata": {},
   "outputs": [
    {
     "name": "stdout",
     "output_type": "stream",
     "text": [
      "1\n"
     ]
    },
    {
     "data": {
      "text/plain": [
       "2"
      ]
     },
     "execution_count": 113,
     "metadata": {},
     "output_type": "execute_result"
    }
   ],
   "source": [
    "A.leftMostColumnWithOne(mat2)"
   ]
  },
  {
   "cell_type": "code",
   "execution_count": null,
   "metadata": {},
   "outputs": [],
   "source": []
  }
 ],
 "metadata": {
  "kernelspec": {
   "display_name": "Python 3",
   "language": "python",
   "name": "python3"
  },
  "language_info": {
   "codemirror_mode": {
    "name": "ipython",
    "version": 3
   },
   "file_extension": ".py",
   "mimetype": "text/x-python",
   "name": "python",
   "nbconvert_exporter": "python",
   "pygments_lexer": "ipython3",
   "version": "3.8.5"
  }
 },
 "nbformat": 4,
 "nbformat_minor": 4
}
