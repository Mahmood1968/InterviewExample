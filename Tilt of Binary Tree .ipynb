{
 "cells": [
  {
   "cell_type": "code",
   "execution_count": 33,
   "metadata": {},
   "outputs": [
    {
     "name": "stdout",
     "output_type": "stream",
     "text": [
      "The Tilt of whole tree is:  15\n"
     ]
    }
   ],
   "source": [
    "# Python3 Program to find Tilt of \n",
    "# Binary Tree \n",
    "\n",
    "# class that allocates a new node \n",
    "# with the given data and \n",
    "# None left and right pointers. \n",
    "class newNode(object): \n",
    "    def __init__(self, data): \n",
    "        self.val = data \n",
    "        self.left = None\n",
    "        self.right = None\n",
    "\n",
    "# Recursive function to calculate \n",
    "# Tilt of whole tree \n",
    "def traverse(root, tilt): \n",
    "    if (not root): \n",
    "        return 0\n",
    "\n",
    "    # Compute tilts of left and right subtrees \n",
    "    # and find sums of left and right subtrees \n",
    "    left = traverse(root.left, tilt) \n",
    "    right = traverse(root.right, tilt) \n",
    "\n",
    "    # Add current tilt to overall \n",
    "    tilt[0] += abs(left - right) \n",
    "\n",
    "    # Returns sum of nodes under \n",
    "    # current tree \n",
    "    return left + right + root.val \n",
    "\n",
    "# Driver function to print Tilt \n",
    "# of whole tree \n",
    "def Tilt(root): \n",
    "    tilt = [0] \n",
    "    traverse(root, tilt) \n",
    "    return tilt[0] \n",
    "\n",
    "# Driver code \n",
    "if __name__ == '__main__': \n",
    "\n",
    "    # Let us construct a Binary Tree \n",
    "    #\t 4 \n",
    "    # / \\ \n",
    "    # 2 9 \n",
    "    # / \\ \\ \n",
    "    # 3 5 7 \n",
    "    root = None\n",
    "    root = newNode(4) \n",
    "    root.left = newNode(2) \n",
    "    root.right = newNode(9) \n",
    "    root.left.left = newNode(3) \n",
    "    root.left.right = newNode(8) \n",
    "    root.right.right = newNode(7) \n",
    "    print(\"The Tilt of whole tree is: \",Tilt(root)) \n",
    "\n",
    "# This code is contributed by PranchalK \n"
   ]
  },
  {
   "cell_type": "code",
   "execution_count": 27,
   "metadata": {},
   "outputs": [],
   "source": [
    "class TreeNode: \n",
    "    def __init__(self, data): \n",
    "        self.val = data \n",
    "        self.left = None\n",
    "        self.right = None"
   ]
  },
  {
   "cell_type": "code",
   "execution_count": 28,
   "metadata": {},
   "outputs": [],
   "source": [
    "class Solution:\n",
    "    def findTilt(self, root: TreeNode) -> int:\n",
    "        total_tilt = 0\n",
    "\n",
    "        def valueSum(node):\n",
    "            nonlocal total_tilt\n",
    "\n",
    "            if not node:\n",
    "                return 0\n",
    "\n",
    "            left_sum = valueSum(node.left)\n",
    "            right_sum = valueSum(node.right)\n",
    "            tilt = abs(left_sum - right_sum)\n",
    "            total_tilt += tilt\n",
    "\n",
    "            return left_sum + right_sum + node.val\n",
    "\n",
    "        valueSum(root)\n",
    "\n",
    "        return total_tilt"
   ]
  },
  {
   "cell_type": "code",
   "execution_count": 29,
   "metadata": {},
   "outputs": [],
   "source": [
    "root=Solution()"
   ]
  },
  {
   "cell_type": "code",
   "execution_count": 30,
   "metadata": {},
   "outputs": [],
   "source": [
    "root = None\n",
    "root = TreeNode(4) \n",
    "root.left = TreeNode(2) \n",
    "root.right = TreeNode(9) \n",
    "root.left.left = TreeNode(3) \n",
    "root.left.right = TreeNode(8) \n",
    "root.right.right = TreeNode(7) "
   ]
  },
  {
   "cell_type": "code",
   "execution_count": 31,
   "metadata": {},
   "outputs": [
    {
     "ename": "AttributeError",
     "evalue": "'TreeNode' object has no attribute 'findTilt'",
     "output_type": "error",
     "traceback": [
      "\u001b[1;31m---------------------------------------------------------------------------\u001b[0m",
      "\u001b[1;31mAttributeError\u001b[0m                            Traceback (most recent call last)",
      "\u001b[1;32m<ipython-input-31-cd421eb77256>\u001b[0m in \u001b[0;36m<module>\u001b[1;34m\u001b[0m\n\u001b[1;32m----> 1\u001b[1;33m \u001b[0mroot\u001b[0m\u001b[1;33m.\u001b[0m\u001b[0mfindTilt\u001b[0m\u001b[1;33m(\u001b[0m\u001b[0mroot\u001b[0m\u001b[1;33m)\u001b[0m\u001b[1;33m\u001b[0m\u001b[1;33m\u001b[0m\u001b[0m\n\u001b[0m",
      "\u001b[1;31mAttributeError\u001b[0m: 'TreeNode' object has no attribute 'findTilt'"
     ]
    }
   ],
   "source": [
    "root.findTilt(root)"
   ]
  },
  {
   "cell_type": "code",
   "execution_count": null,
   "metadata": {},
   "outputs": [],
   "source": []
  }
 ],
 "metadata": {
  "kernelspec": {
   "display_name": "Python 3",
   "language": "python",
   "name": "python3"
  },
  "language_info": {
   "codemirror_mode": {
    "name": "ipython",
    "version": 3
   },
   "file_extension": ".py",
   "mimetype": "text/x-python",
   "name": "python",
   "nbconvert_exporter": "python",
   "pygments_lexer": "ipython3",
   "version": "3.8.5"
  }
 },
 "nbformat": 4,
 "nbformat_minor": 4
}
