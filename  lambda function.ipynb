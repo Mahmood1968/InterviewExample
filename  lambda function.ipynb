{
 "cells": [
  {
   "cell_type": "markdown",
   "metadata": {},
   "source": [
    "- An anonymous function is known as a lambda function. \n",
    "- This function can have any number of parameters but, can have just one statement."
   ]
  },
  {
   "cell_type": "code",
   "execution_count": 1,
   "metadata": {},
   "outputs": [
    {
     "name": "stdout",
     "output_type": "stream",
     "text": [
      "17\n"
     ]
    }
   ],
   "source": [
    "a = lambda x,y, z : x+y*z\n",
    "print(a(5, 6, 2))"
   ]
  },
  {
   "cell_type": "markdown",
   "metadata": {},
   "source": [
    "### What does [::-1} do?"
   ]
  },
  {
   "cell_type": "code",
   "execution_count": 4,
   "metadata": {},
   "outputs": [
    {
     "data": {
      "text/plain": [
       "array('i', [5, 4, 3, 2, 1])"
      ]
     },
     "execution_count": 4,
     "metadata": {},
     "output_type": "execute_result"
    }
   ],
   "source": [
    "import array as arr\n",
    "My_Array=arr.array('i',[1,2,3,4,5])\n",
    "My_Array[::-1]"
   ]
  },
  {
   "cell_type": "markdown",
   "metadata": {},
   "source": [
    "### What is pickling and unpickling?\n",
    " - Pickle module accepts any Python object and converts it into a string representation and dumps it into a file by using dump function, this process is called pickling. While the process of retrieving original Python objects from the stored string representation is called unpickling.\n",
    " \n",
    "### What are the generators in python?\n",
    "Ans: Functions that return an iterable set of items are called generators. \n",
    "\n"
   ]
  },
  {
   "cell_type": "markdown",
   "metadata": {},
   "source": [
    "### How to add values to a python array?"
   ]
  },
  {
   "cell_type": "code",
   "execution_count": 9,
   "metadata": {},
   "outputs": [
    {
     "name": "stdout",
     "output_type": "stream",
     "text": [
      "array('d', [1.1, 2.1, 3.1, 3.4])\n",
      "array('d', [1.1, 2.1, 3.1, 3.4, 4.5, 6.3, 6.8])\n",
      "array('d', [1.1, 2.1, 3.8, 3.1, 3.4, 4.5, 6.3, 6.8])\n"
     ]
    }
   ],
   "source": [
    "a=arr.array('d', [1.1 , 2.1 ,3.1] )\n",
    "a.append(3.4)\n",
    "print(a)\n",
    "a.extend([4.5,6.3,6.8])\n",
    "print(a)\n",
    "a.insert(2,3.8)\n",
    "print(a)"
   ]
  },
  {
   "cell_type": "markdown",
   "metadata": {},
   "source": [
    "### How to remove values to a python array?"
   ]
  },
  {
   "cell_type": "code",
   "execution_count": 10,
   "metadata": {},
   "outputs": [
    {
     "name": "stdout",
     "output_type": "stream",
     "text": [
      "4.6\n",
      "3.1\n",
      "array('d', [2.2, 3.8, 3.7, 1.2])\n"
     ]
    }
   ],
   "source": [
    "a=arr.array('d', [1.1, 2.2, 3.8, 3.1, 3.7, 1.2, 4.6])\n",
    "print(a.pop())\n",
    "print(a.pop(3))\n",
    "a.remove(1.1)\n",
    "print(a)"
   ]
  },
  {
   "cell_type": "markdown",
   "metadata": {},
   "source": [
    "### What is the difference between deep and shallow copy?\n",
    "Ans: Shallow copy is used when a new instance type gets created and it keeps the values that are copied in the new instance. \n",
    "    Shallow copy is used to copy the reference pointers just like it copies the values. \n",
    "    These references point to the original objects and the changes made in any member of the class will also affect the original copy of it. \n",
    "    Shallow copy allows faster execution of the program and it depends on the size of the data that is used.\n",
    "\n",
    "Deep copy is used to store the values that are already copied. \n",
    "Deep copy doesn’t copy the reference pointers to the objects. \n",
    "It makes the reference to an object and the new object that is pointed by some other object gets stored. \n",
    "The changes made in the original copy won’t affect any other copy that uses the object. \n",
    "Deep copy makes execution of the program slower due to making certain copies for each object that is been called."
   ]
  },
  {
   "cell_type": "code",
   "execution_count": 11,
   "metadata": {},
   "outputs": [
    {
     "name": "stdout",
     "output_type": "stream",
     "text": [
      "Geek1 False\n",
      "Geek2 True\n"
     ]
    }
   ],
   "source": [
    "# A Python program to demonstrate inheritance  \n",
    "   \n",
    "# Base or Super class. Note object in bracket. \n",
    "# (Generally, object is made ancestor of all classes) \n",
    "# In Python 3.x \"class Person\" is  \n",
    "# equivalent to \"class Person(object)\" \n",
    "class Person(object): \n",
    "       \n",
    "    # Constructor \n",
    "    def __init__(self, name): \n",
    "        self.name = name \n",
    "   \n",
    "    # To get name \n",
    "    def getName(self): \n",
    "        return self.name \n",
    "   \n",
    "    # To check if this person is an employee \n",
    "    def isEmployee(self): \n",
    "        return False\n",
    "   \n",
    "   \n",
    "# Inherited or Subclass (Note Person in bracket) \n",
    "class Employee(Person): \n",
    "   \n",
    "    # Here we return true \n",
    "    def isEmployee(self): \n",
    "        return True\n",
    "   \n",
    "# Driver code \n",
    "emp = Person(\"Geek1\")  # An Object of Person \n",
    "print(emp.getName(), emp.isEmployee()) \n",
    "   \n",
    "emp = Employee(\"Geek2\") # An Object of Employee \n",
    "print(emp.getName(), emp.isEmployee()) "
   ]
  },
  {
   "cell_type": "code",
   "execution_count": 12,
   "metadata": {},
   "outputs": [
    {
     "name": "stdout",
     "output_type": "stream",
     "text": [
      "5\n",
      "9\n"
     ]
    }
   ],
   "source": [
    "# A simple Python function to demonstrate  \n",
    "# Polymorphism \n",
    "  \n",
    "def add(x, y, z = 0):  \n",
    "    return x + y+z \n",
    "  \n",
    "# Driver code  \n",
    "print(add(2, 3)) \n",
    "print(add(2, 3, 4))"
   ]
  },
  {
   "cell_type": "markdown",
   "metadata": {},
   "source": [
    "### How to create an empty class in Python? "
   ]
  },
  {
   "cell_type": "code",
   "execution_count": 13,
   "metadata": {},
   "outputs": [
    {
     "name": "stdout",
     "output_type": "stream",
     "text": [
      "Name =  xyz\n"
     ]
    }
   ],
   "source": [
    "class a:\n",
    "    pass\n",
    "obj=a()\n",
    "obj.name=\"xyz\"\n",
    "print(\"Name = \",obj.name)"
   ]
  },
  {
   "cell_type": "markdown",
   "metadata": {},
   "source": [
    "### Write a program in Python to check if a sequence is a Palindrome."
   ]
  },
  {
   "cell_type": "code",
   "execution_count": 19,
   "metadata": {},
   "outputs": [
    {
     "name": "stdout",
     "output_type": "stream",
     "text": [
      "enter sequence: 332233\n",
      "332233\n",
      "palindrome\n"
     ]
    }
   ],
   "source": [
    "a=input(\"enter sequence: \")\n",
    "b=a[::-1]\n",
    "print(b)\n",
    "if a==b:\n",
    "    print(\"palindrome\")\n",
    "else:\n",
    "    print(\"Not a Palindrome\")"
   ]
  },
  {
   "cell_type": "code",
   "execution_count": null,
   "metadata": {},
   "outputs": [],
   "source": []
  }
 ],
 "metadata": {
  "kernelspec": {
   "display_name": "Python 3",
   "language": "python",
   "name": "python3"
  },
  "language_info": {
   "codemirror_mode": {
    "name": "ipython",
    "version": 3
   },
   "file_extension": ".py",
   "mimetype": "text/x-python",
   "name": "python",
   "nbconvert_exporter": "python",
   "pygments_lexer": "ipython3",
   "version": "3.8.5"
  }
 },
 "nbformat": 4,
 "nbformat_minor": 4
}
