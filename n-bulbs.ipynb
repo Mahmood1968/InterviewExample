{
 "cells": [
  {
   "cell_type": "markdown",
   "metadata": {},
   "source": [
    "## n-bulbs"
   ]
  },
  {
   "cell_type": "markdown",
   "metadata": {},
   "source": [
    "There are n bulbs that are initially off. You first turn on all the bulbs. \n",
    "Then, you turn off every second bulb. On the third round, you toggle every third bulb (turning on \n",
    " if it's off or turning off if it's on). \n",
    " For the i-th round, you toggle every i bulb. \n",
    " For the n-th round,you only toggle the last bulb.\n",
    "Find how many bulbs are on after n rounds.\n",
    "\n",
    "\n",
    "Example:\n",
    "\n",
    "Input: 3\n",
    "Output: 1 \n",
    "Explanation: \n",
    "At first, the three bulbs are [off, off, off].\n",
    "After first round, the three bulbs are [on, on, on].\n",
    "After second round, the three bulbs are [on, off, on].\n",
    "After third round, the three bulbs are [on, off, off]. \n",
    "\n",
    "So you should return 1, because there is only one bulb is on."
   ]
  },
  {
   "cell_type": "code",
   "execution_count": null,
   "metadata": {},
   "outputs": [],
   "source": [
    "class Solution:\n",
    "    def bulbSwitch(self, n: int) -> int:\n",
    "        result = 0\n",
    "        current = 1\n",
    "\n",
    "        while (current * current <=n):\n",
    "            current +=1\n",
    "            result +=1\n",
    "       \n",
    "\n",
    "        return result"
   ]
  }
 ],
 "metadata": {
  "kernelspec": {
   "display_name": "Python 3",
   "language": "python",
   "name": "python3"
  },
  "language_info": {
   "codemirror_mode": {
    "name": "ipython",
    "version": 3
   },
   "file_extension": ".py",
   "mimetype": "text/x-python",
   "name": "python",
   "nbconvert_exporter": "python",
   "pygments_lexer": "ipython3",
   "version": "3.8.5"
  }
 },
 "nbformat": 4,
 "nbformat_minor": 4
}
