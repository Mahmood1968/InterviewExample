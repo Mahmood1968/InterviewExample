{
 "cells": [
  {
   "cell_type": "code",
   "execution_count": 1,
   "metadata": {},
   "outputs": [],
   "source": [
    "class Node(object):  \n",
    "    def __init__(self,data):  \n",
    "        self.left = None\n",
    "        self.right = None\n",
    "        self.data = data  \n",
    "        "
   ]
  },
  {
   "cell_type": "code",
<<<<<<< HEAD
   "execution_count": 2,
=======
   "execution_count": 7,
>>>>>>> b26b1ee0ed9a9382887a9507704a75743d8cce38
   "metadata": {},
   "outputs": [],
   "source": [
    "class binarytree(object):\n",
    "    def __init__(self, root):\n",
    "        self.root=Node(root)\n",
    "        \n",
    "    def print_tree(self, traversal_type):\n",
    "        if traversal_type=='preorder':\n",
    "            return self.preorder_Traversal(tree.root, \"\")\n",
    "        elif traversal_type=='inorder':\n",
    "            return self.inorder_Traversal(tree.root, \"\")\n",
    "        elif traversal_type=='postorder':\n",
    "            return self.posorder_Traversal(tree.root, \"\")\n",
    "        else: \n",
    "            return False \n",
<<<<<<< HEAD
    "        \n",
=======
>>>>>>> b26b1ee0ed9a9382887a9507704a75743d8cce38
    "    def preorder_Traversal(self, start, traversal):\n",
    "        \"\"\" Root -> left -> Right  \"\"\"\n",
    "        if start:\n",
    "            traversal+=(str(start.data)+ \"-\") \n",
    "            traversal=self.preorder_Traversal(start.left,traversal) \n",
    "            traversal=self.preorder_Traversal(start.right, traversal) \n",
    "        return traversal \n",
    "    \n",
    "    def inorder_Traversal(self, start, traversal):\n",
    "        \"\"\" Root -> left -> Right  \"\"\"\n",
    "        if start:\n",
<<<<<<< HEAD
    "          \n",
=======
    "            \n",
>>>>>>> b26b1ee0ed9a9382887a9507704a75743d8cce38
    "            traversal=self.preorder_Traversal(start.left,traversal) \n",
    "            traversal+=(str(start.data)+ \"-\") \n",
    "            traversal=self.preorder_Traversal(start.right, traversal) \n",
    "        return traversal \n",
<<<<<<< HEAD
    "    \n",
=======
>>>>>>> b26b1ee0ed9a9382887a9507704a75743d8cce38
    "    def posorder_Traversal(self, start, traversal):\n",
    "        \"\"\" Root -> left -> Right  \"\"\"\n",
    "        if start:\n",
    "            \n",
    "            traversal=self.preorder_Traversal(start.left,traversal) \n",
    "             \n",
    "            traversal=self.preorder_Traversal(start.right, traversal)\n",
    "            traversal+=(str(start.data)+ \"-\") \n",
    "        return traversal \n",
    "    "
   ]
  },
  {
   "cell_type": "code",
<<<<<<< HEAD
   "execution_count": 3,
=======
   "execution_count": 8,
>>>>>>> b26b1ee0ed9a9382887a9507704a75743d8cce38
   "metadata": {},
   "outputs": [],
   "source": [
    "tree=binarytree(1)\n",
<<<<<<< HEAD
    "tree.root.left=Node(2)\n",
    "tree.root.right=Node(3)\n",
    "tree.root.left.left=Node(4)"
=======
    "\n",
    "tree.root.left=Node(2)\n",
    "tree.root.right=Node(3)\n",
    "tree.root.left.left=Node(4)\n",
    "\n"
>>>>>>> b26b1ee0ed9a9382887a9507704a75743d8cce38
   ]
  },
  {
   "cell_type": "code",
<<<<<<< HEAD
   "execution_count": 4,
=======
   "execution_count": 9,
>>>>>>> b26b1ee0ed9a9382887a9507704a75743d8cce38
   "metadata": {},
   "outputs": [
    {
     "name": "stdout",
     "output_type": "stream",
     "text": [
      "2\n",
      "3\n",
      "4\n"
     ]
    }
   ],
   "source": [
    "print(tree.root.left.data)\n",
    "print(tree.root.right.data)\n",
    "print(tree.root.left.left.data)"
   ]
  },
  {
   "cell_type": "code",
<<<<<<< HEAD
   "execution_count": 5,
   "metadata": {},
   "outputs": [
    {
     "name": "stdout",
     "output_type": "stream",
     "text": [
      " preorder \n"
     ]
    },
    {
=======
   "execution_count": 10,
   "metadata": {},
   "outputs": [
    {
>>>>>>> b26b1ee0ed9a9382887a9507704a75743d8cce38
     "data": {
      "text/plain": [
       "'1-2-4-3-'"
      ]
     },
<<<<<<< HEAD
     "execution_count": 5,
=======
     "execution_count": 10,
>>>>>>> b26b1ee0ed9a9382887a9507704a75743d8cce38
     "metadata": {},
     "output_type": "execute_result"
    }
   ],
   "source": [
<<<<<<< HEAD
    "print(\" preorder \")\n",
=======
>>>>>>> b26b1ee0ed9a9382887a9507704a75743d8cce38
    "tree.print_tree('preorder')"
   ]
  },
  {
   "cell_type": "code",
<<<<<<< HEAD
   "execution_count": 8,
   "metadata": {},
   "outputs": [
    {
     "name": "stdout",
     "output_type": "stream",
     "text": [
      " inorder \n"
     ]
    },
    {
=======
   "execution_count": null,
   "metadata": {},
   "outputs": [],
   "source": []
  },
  {
   "cell_type": "code",
   "execution_count": 11,
   "metadata": {},
   "outputs": [
    {
>>>>>>> b26b1ee0ed9a9382887a9507704a75743d8cce38
     "data": {
      "text/plain": [
       "'2-4-1-3-'"
      ]
     },
<<<<<<< HEAD
     "execution_count": 8,
=======
     "execution_count": 11,
>>>>>>> b26b1ee0ed9a9382887a9507704a75743d8cce38
     "metadata": {},
     "output_type": "execute_result"
    }
   ],
   "source": [
<<<<<<< HEAD
    "print(\" inorder \")\n",
=======
>>>>>>> b26b1ee0ed9a9382887a9507704a75743d8cce38
    "tree.print_tree('inorder')"
   ]
  },
  {
   "cell_type": "code",
<<<<<<< HEAD
   "execution_count": 9,
   "metadata": {},
   "outputs": [
    {
     "name": "stdout",
     "output_type": "stream",
     "text": [
      " postorder \n"
     ]
    },
    {
=======
   "execution_count": 12,
   "metadata": {},
   "outputs": [
    {
>>>>>>> b26b1ee0ed9a9382887a9507704a75743d8cce38
     "data": {
      "text/plain": [
       "'2-4-3-1-'"
      ]
     },
<<<<<<< HEAD
     "execution_count": 9,
=======
     "execution_count": 12,
>>>>>>> b26b1ee0ed9a9382887a9507704a75743d8cce38
     "metadata": {},
     "output_type": "execute_result"
    }
   ],
   "source": [
<<<<<<< HEAD
    "print(\" postorder \")\n",
=======
>>>>>>> b26b1ee0ed9a9382887a9507704a75743d8cce38
    "tree.print_tree('postorder')"
   ]
  },
  {
   "cell_type": "code",
   "execution_count": null,
   "metadata": {},
   "outputs": [],
   "source": []
  }
 ],
 "metadata": {
  "kernelspec": {
   "display_name": "Python 3",
   "language": "python",
   "name": "python3"
  },
  "language_info": {
   "codemirror_mode": {
    "name": "ipython",
    "version": 3
   },
   "file_extension": ".py",
   "mimetype": "text/x-python",
   "name": "python",
   "nbconvert_exporter": "python",
   "pygments_lexer": "ipython3",
<<<<<<< HEAD
   "version": "3.8.5"
=======
   "version": "3.6.5"
>>>>>>> b26b1ee0ed9a9382887a9507704a75743d8cce38
  }
 },
 "nbformat": 4,
 "nbformat_minor": 4
}
