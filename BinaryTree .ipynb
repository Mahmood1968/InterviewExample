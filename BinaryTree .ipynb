{
 "cells": [
  {
   "cell_type": "code",
   "execution_count": null,
   "metadata": {},
   "outputs": [],
   "source": [
    "class Node(object):  \n",
    "    def __init__(self,data):  \n",
    "        self.left = None\n",
    "        self.right = None\n",
    "        self.data = data  \n",
    "        "
   ]
  },
  {
   "cell_type": "code",
   "execution_count": null,
   "metadata": {},
   "outputs": [],
   "source": [
    "class binarytree(object):\n",
    "    def __init__(self, root):\n",
    "        self.root=Node(root)\n",
    "        \n",
    "    def print_tree(self, traversal_type):\n",
    "        if traversal_type=='preorder':\n",
    "            return self.preorder_Traversal(tree.root, \"\")\n",
    "        elif traversal_type=='inorder':\n",
    "            return self.inorder_Traversal(tree.root, \"\")\n",
    "        elif traversal_type=='postorder':\n",
    "            return self.posorder_Traversal(tree.root, \"\")\n",
    "        else: \n",
    "            return False \n",
    "    def preorder_Traversal(self, start, traversal):\n",
    "        \"\"\" Root -> left -> Right  \"\"\"\n",
    "        if start:\n",
    "            traversal+=(str(start.data)+ \"-\") \n",
    "            traversal=self.preorder_Traversal(start.left,traversal) \n",
    "            traversal=self.preorder_Traversal(start.right, traversal) \n",
    "        return traversal \n",
    "    \n",
    "    def inorder_Traversal(self, start, traversal):\n",
    "        \"\"\" Root -> left -> Right  \"\"\"\n",
    "        if start:\n",
    "            \n",
    "            traversal=self.preorder_Traversal(start.left,traversal) \n",
    "            traversal+=(str(start.data)+ \"-\") \n",
    "            traversal=sel\n",
    "            f.preorder_Traversal(start.right, traversal) \n",
    "        return traversal \n",
    "    def posorder_Traversal(self, start, traversal):\n",
    "        \"\"\" Root -> left -> Right  \"\"\"\n",
    "        if start:\n",
    "            \n",
    "            traversal=self.preorder_Traversal(start.left,traversal) \n",
    "             \n",
    "            traversal=self.preorder_Traversal(start.right, traversal)\n",
    "            traversal+=(str(start.data)+ \"-\") \n",
    "        return traversal \n",
    "    "
   ]
  },
  {
   "cell_type": "code",
   "execution_count": null,
   "metadata": {},
   "outputs": [],
   "source": [
    "tree=binarytree(1)\n",
    "\n",
    "tree.root.left=Node(2)\n",
    "tree.root.right=Node(3)\n",
    "tree.root.left.left=Node(4)\n",
    "\n"
   ]
  },
  {
   "cell_type": "code",
   "execution_count": null,
   "metadata": {},
   "outputs": [],
   "source": [
    "print(tree.root.left.data)\n",
    "print(tree.root.right.data)\n",
    "print(tree.root.left.left.data)"
   ]
  },
  {
   "cell_type": "code",
   "execution_count": null,
   "metadata": {},
   "outputs": [],
   "source": [
    "tree.print_tree('preorder')"
   ]
  },
  {
   "cell_type": "code",
   "execution_count": null,
   "metadata": {},
   "outputs": [],
   "source": []
  },
  {
   "cell_type": "code",
   "execution_count": null,
   "metadata": {},
   "outputs": [],
   "source": [
    "tree.print_tree('inorder')"
   ]
  },
  {
   "cell_type": "code",
   "execution_count": null,
   "metadata": {},
   "outputs": [],
   "source": [
    "tree.print_tree('postorder')"
   ]
  },
  {
   "cell_type": "code",
   "execution_count": null,
   "metadata": {},
   "outputs": [],
   "source": [
    "from werkzeug.utils import cached_property"
   ]
  },
  {
   "cell_type": "code",
   "execution_count": null,
   "metadata": {},
   "outputs": [],
   "source": [
    "#!conda install -y Werkzeug"
   ]
  },
  {
   "cell_type": "code",
   "execution_count": null,
   "metadata": {},
   "outputs": [],
   "source": [
    "from flask_restplus import Api"
   ]
  },
  {
   "cell_type": "code",
   "execution_count": 3,
   "metadata": {},
   "outputs": [
    {
     "ename": "ModuleNotFoundError",
     "evalue": "No module named 'flask'",
     "output_type": "error",
     "traceback": [
      "\u001b[1;31m---------------------------------------------------------------------------\u001b[0m",
      "\u001b[1;31mModuleNotFoundError\u001b[0m                       Traceback (most recent call last)",
      "\u001b[1;32m<ipython-input-3-afc2eb2ad8ca>\u001b[0m in \u001b[0;36m<module>\u001b[1;34m\u001b[0m\n\u001b[1;32m----> 1\u001b[1;33m \u001b[1;32mfrom\u001b[0m \u001b[0mflask\u001b[0m \u001b[1;32mimport\u001b[0m \u001b[0mFlask\u001b[0m\u001b[1;33m\u001b[0m\u001b[1;33m\u001b[0m\u001b[0m\n\u001b[0m\u001b[0;32m      2\u001b[0m \u001b[1;32mfrom\u001b[0m \u001b[0mflask_restplus\u001b[0m \u001b[1;32mimport\u001b[0m \u001b[0mResource\u001b[0m\u001b[1;33m,\u001b[0m \u001b[0mApi\u001b[0m\u001b[1;33m\u001b[0m\u001b[1;33m\u001b[0m\u001b[0m\n",
      "\u001b[1;31mModuleNotFoundError\u001b[0m: No module named 'flask'"
     ]
    }
   ],
   "source": [
    "from flask import Flask\n",
    "from flask_restplus import Resource, Api"
   ]
  },
  {
   "cell_type": "code",
   "execution_count": 2,
   "metadata": {},
   "outputs": [
    {
     "name": "stdout",
     "output_type": "stream",
     "text": [
      "Requirement already satisfied: flask in c:\\users\\mahabd\\appdata\\local\\programs\\python\\python36\\lib\\site-packages"
     ]
    },
    {
     "name": "stderr",
     "output_type": "stream",
     "text": [
      "You are using pip version 9.0.3, however version 20.2.3 is available.\n",
      "You should consider upgrading via the 'python -m pip install --upgrade pip' command.\n"
     ]
    },
    {
     "name": "stdout",
     "output_type": "stream",
     "text": [
      "\n",
      "Requirement already satisfied: itsdangerous>=0.24 in c:\\users\\mahabd\\appdata\\local\\programs\\python\\python36\\lib\\site-packages (from flask)\n",
      "Requirement already satisfied: Jinja2>=2.10.1 in c:\\users\\mahabd\\appdata\\local\\programs\\python\\python36\\lib\\site-packages (from flask)\n",
      "Requirement already satisfied: Werkzeug>=0.15 in c:\\users\\mahabd\\appdata\\local\\programs\\python\\python36\\lib\\site-packages (from flask)\n",
      "Requirement already satisfied: click>=5.1 in c:\\users\\mahabd\\appdata\\local\\programs\\python\\python36\\lib\\site-packages (from flask)\n",
      "Requirement already satisfied: MarkupSafe>=0.23 in c:\\users\\mahabd\\appdata\\local\\programs\\python\\python36\\lib\\site-packages (from Jinja2>=2.10.1->flask)\n"
     ]
    }
   ],
   "source": [
    "!pip3 install flask\n"
   ]
  },
  {
   "cell_type": "code",
   "execution_count": null,
   "metadata": {},
   "outputs": [],
   "source": []
  }
 ],
 "metadata": {
  "kernelspec": {
   "display_name": "Python 3",
   "language": "python",
   "name": "python3"
  },
  "language_info": {
   "codemirror_mode": {
    "name": "ipython",
    "version": 3
   },
   "file_extension": ".py",
   "mimetype": "text/x-python",
   "name": "python",
   "nbconvert_exporter": "python",
   "pygments_lexer": "ipython3",
   "version": "3.8.3"
  }
 },
 "nbformat": 4,
 "nbformat_minor": 4
}
