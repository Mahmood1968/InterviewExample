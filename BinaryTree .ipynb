{
 "cells": [
  {
   "cell_type": "code",
   "execution_count": 6,
   "metadata": {},
   "outputs": [],
   "source": [
    "class Node(object):  \n",
    "    def __init__(self,data):  \n",
    "        self.left = None\n",
    "        self.right = None\n",
    "        self.data = data  \n",
    "        "
   ]
  },
  {
   "cell_type": "code",
   "execution_count": 22,
   "metadata": {},
   "outputs": [],
   "source": [
    "class binarytree(object):\n",
    "    def __init__(self, root):\n",
    "        self.root=Node(root)\n",
    "        \n",
    "    def print_tree(self, traversal_type):\n",
    "        if traversal_type=='preorder':\n",
    "            return self.preorder_Traversal(tree.root, \"\")\n",
    "        elif traversal_type=='inorder':\n",
    "            return self.inorder_Traversal(tree.root, \"\")\n",
    "        elif traversal_type=='postorder':\n",
    "            return self.posorder_Traversal(tree.root, \"\")\n",
    "        else: \n",
    "            return False \n",
    "    def preorder_Traversal(self, start, traversal):\n",
    "        \"\"\" Root -> left -> Right  \"\"\"\n",
    "        if start:\n",
    "            traversal+=(str(start.data)+ \"-\") \n",
    "            traversal=self.preorder_Traversal(start.left,traversal) \n",
    "            traversal=self.preorder_Traversal(start.right, traversal) \n",
    "        return traversal \n",
    "    \n",
    "    def inorder_Traversal(self, start, traversal):\n",
    "        \"\"\" Root -> left -> Right  \"\"\"\n",
    "        if start:\n",
    "            \n",
    "            traversal=self.preorder_Traversal(start.left,traversal) \n",
    "            traversal+=(str(start.data)+ \"-\") \n",
    "            traversal=sel\n",
    "            f.preorder_Traversal(start.right, traversal) \n",
    "        return traversal \n",
    "    def posorder_Traversal(self, start, traversal):\n",
    "        \"\"\" Root -> left -> Right  \"\"\"\n",
    "        if start:\n",
    "            \n",
    "            traversal=self.preorder_Traversal(start.left,traversal) \n",
    "             \n",
    "            traversal=self.preorder_Traversal(start.right, traversal)\n",
    "            traversal+=(str(start.data)+ \"-\") \n",
    "        return traversal \n",
    "    "
   ]
  },
  {
   "cell_type": "code",
   "execution_count": 23,
   "metadata": {},
   "outputs": [],
   "source": [
    "tree=binarytree(1)\n",
    "\n",
    "tree.root.left=Node(2)\n",
    "tree.root.right=Node(3)\n",
    "tree.root.left.left=Node(4)\n",
    "\n"
   ]
  },
  {
   "cell_type": "code",
   "execution_count": 24,
   "metadata": {},
   "outputs": [
    {
     "name": "stdout",
     "output_type": "stream",
     "text": [
      "2\n",
      "3\n",
      "4\n"
     ]
    }
   ],
   "source": [
    "print(tree.root.left.data)\n",
    "print(tree.root.right.data)\n",
    "print(tree.root.left.left.data)"
   ]
  },
  {
   "cell_type": "code",
   "execution_count": 25,
   "metadata": {},
   "outputs": [
    {
     "data": {
      "text/plain": [
       "'1-2-4-3-'"
      ]
     },
     "execution_count": 25,
     "metadata": {},
     "output_type": "execute_result"
    }
   ],
   "source": [
    "tree.print_tree('preorder')"
   ]
  },
  {
   "cell_type": "code",
   "execution_count": null,
   "metadata": {},
   "outputs": [],
   "source": []
  },
  {
   "cell_type": "code",
   "execution_count": 26,
   "metadata": {},
   "outputs": [
    {
     "data": {
      "text/plain": [
       "'2-4-1-3-'"
      ]
     },
     "execution_count": 26,
     "metadata": {},
     "output_type": "execute_result"
    }
   ],
   "source": [
    "tree.print_tree('inorder')"
   ]
  },
  {
   "cell_type": "code",
   "execution_count": 28,
   "metadata": {},
   "outputs": [
    {
     "data": {
      "text/plain": [
       "'2-4-3-1-'"
      ]
     },
     "execution_count": 28,
     "metadata": {},
     "output_type": "execute_result"
    }
   ],
   "source": [
    "tree.print_tree('postorder')"
   ]
  },
  {
   "cell_type": "code",
   "execution_count": null,
   "metadata": {},
   "outputs": [],
   "source": []
  }
 ],
 "metadata": {
  "kernelspec": {
   "display_name": "Python 3",
   "language": "python",
   "name": "python3"
  },
  "language_info": {
   "codemirror_mode": {
    "name": "ipython",
    "version": 3
   },
   "file_extension": ".py",
   "mimetype": "text/x-python",
   "name": "python",
   "nbconvert_exporter": "python",
   "pygments_lexer": "ipython3",
   "version": "3.8.3"
  }
 },
 "nbformat": 4,
 "nbformat_minor": 4
}
