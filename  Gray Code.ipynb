{
 "cells": [
  {
   "cell_type": "markdown",
   "metadata": {},
   "source": [
    "## The gray code\n",
    "The gray code is a binary numeral system where two successive values differ in only one bit.\n",
    "\n",
    "Given a non-negative integer n representing the total number of bits in the code, print the sequence of gray code. A gray code sequence must begin with 0.\n",
    "\n",
    "Example 1:\n",
    "\n",
    "Input: 2\n",
    "\n",
    "Output: [0,1,3,2]\n",
    "\n",
    "Explanation:\n",
    "\n",
    "00 - 0\n",
    "\n",
    "01 - 1\n",
    "\n",
    "11 - 3\n",
    "\n",
    "10 - 2\n",
    "\n",
    "For a given n, a gray code sequence may not be uniquely defined.\n",
    "For example,\n",
    "\n",
    "[0,2,3,1] \n",
    "\n",
    "is also a valid gray code sequence.\n",
    "\n",
    "00 - 0 \n",
    "\n",
    "10 - 2\n",
    "\n",
    "11 - 3\n",
    "\n",
    "01 - 1"
   ]
  },
  {
   "cell_type": "code",
   "execution_count": 45,
   "metadata": {},
   "outputs": [],
   "source": [
    "# Python3 program to generate n-bit Gray codes\n",
    "import math as mt\n",
    "\n",
    "# This function generates all n bit Gray \n",
    "# codes and prints the generated codes\n",
    "def generateGrayarr(n):\n",
    "\n",
    "    # base case\n",
    "    if (n <= 0):\n",
    "        return [0]\n",
    "\n",
    "    # 'arr' will store all generated codes\n",
    "    arr = list()\n",
    "\n",
    "    # start with one-bit pattern\n",
    "    arr.append(\"0\")\n",
    "    arr.append(\"1\")\n",
    "\n",
    "    # Every iteration of this loop generates \n",
    "    # 2*i codes from previously generated i codes.\n",
    "    i = 2\n",
    "    j = 0\n",
    "    while(True):\n",
    "\n",
    "        if i >= 1 << n:\n",
    "            print(\"i  *= \", i)\n",
    "            break\n",
    "\n",
    "        # Enter the prviously generated codes \n",
    "        # again in arr[] in reverse order. \n",
    "        # Nor arr[] has double number of codes.\n",
    "        for j in range(i - 1, -1, -1):\n",
    "            #print(j)\n",
    "            arr.append(arr[j])\n",
    "            print(\" arr\", arr[j])\n",
    "        print(arr)\n",
    "        # append 0 to the first half\n",
    "        for j in range(i):\n",
    "            arr[j] = \"0\" + arr[j]\n",
    "\n",
    "        # append 1 to the second half\n",
    "        for j in range(i, 2 * i):\n",
    "            arr[j] = \"1\" + arr[j]\n",
    "        i = i << 1\n",
    "        print(\"i += \", i)\n",
    "    # prcontents of arr[]\n",
    "    def binaryToDecimal(x): \n",
    "            return int(x,2)\n",
    "        \n",
    "    result=[]\n",
    "    for i in range(len(arr)):\n",
    "        print(arr[i])\n",
    "        result.append( binaryToDecimal(arr[i]))\n",
    "    #print(result)    \n",
    "    return result\n",
    "# Driver Code\n",
    "#print(generateGrayarr(4))\n",
    "\n",
    "# This code is contributed \n",
    "# by Mohit kumar 29\n"
   ]
  },
  {
   "cell_type": "code",
   "execution_count": 46,
   "metadata": {},
   "outputs": [
    {
     "name": "stdout",
     "output_type": "stream",
     "text": [
      " arr 1\n",
      " arr 0\n",
      "['0', '1', '1', '0']\n",
      "i +=  4\n",
      " arr 10\n",
      " arr 11\n",
      " arr 01\n",
      " arr 00\n",
      "['00', '01', '11', '10', '10', '11', '01', '00']\n",
      "i +=  8\n",
      "i  *=  8\n",
      "000\n",
      "001\n",
      "011\n",
      "010\n",
      "110\n",
      "111\n",
      "101\n",
      "100\n",
      "[0, 1, 3, 2, 6, 7, 5, 4]\n"
     ]
    }
   ],
   "source": [
    "print(generateGrayarr(3))"
   ]
  },
  {
   "cell_type": "code",
   "execution_count": 29,
   "metadata": {},
   "outputs": [
    {
     "name": "stdout",
     "output_type": "stream",
     "text": [
      "8\n"
     ]
    }
   ],
   "source": [
    "i=2\n",
    "i = i << 1\n",
    "print(i)"
   ]
  },
  {
   "cell_type": "code",
   "execution_count": 37,
   "metadata": {},
   "outputs": [
    {
     "name": "stdout",
     "output_type": "stream",
     "text": [
      "7\n"
     ]
    }
   ],
   "source": [
    "print(int(\"0111\",2))"
   ]
  },
  {
   "cell_type": "code",
   "execution_count": null,
   "metadata": {},
   "outputs": [],
   "source": []
  }
 ],
 "metadata": {
  "kernelspec": {
   "display_name": "Python 3",
   "language": "python",
   "name": "python3"
  },
  "language_info": {
   "codemirror_mode": {
    "name": "ipython",
    "version": 3
   },
   "file_extension": ".py",
   "mimetype": "text/x-python",
   "name": "python",
   "nbconvert_exporter": "python",
   "pygments_lexer": "ipython3",
   "version": "3.8.5"
  }
 },
 "nbformat": 4,
 "nbformat_minor": 4
}
