{
 "cells": [
  {
   "cell_type": "markdown",
   "metadata": {},
   "source": [
    "## lonely node"
   ]
  },
  {
   "cell_type": "markdown",
   "metadata": {},
   "source": [
    "### In a binary tree,\n",
    "- a lonely node is a node that is the only child of its parent node. The root of the tree is not lonely because it does not have a parent node.\n",
    "\n",
    "Given the root of a binary tree, return an array containing the values of all lonely nodes in the tree. Return the list in any order.\n",
    "\n",
    " \n",
    "\n",
    "Example 1:\n",
    "<img src=\"e1.png\">\n",
    "\n",
    "Input: \n",
    "\n",
    "root = [1,2,3,null,4]\n",
    "\n",
    "    Output: [4]\n",
    "    \n",
    "    - Explanation: Light blue node is the only lonely node.\n",
    "    - Node 1 is the root and is not lonely.\n",
    "    - Nodes 2 and 3 have the same parent and are not lonely.\n",
    "Example 2:\n",
    "\n",
    "\n",
    "Input: root = [7,1,4,6,null,5,3,null,null,null,null,null,2]\n",
    "Output: [6,2]\n",
    "Explanation: Light blue nodes are lonely nodes.\n",
    "Please remember that order doesn't matter, [2,6] is also an acceptable answer."
   ]
  },
  {
   "cell_type": "code",
   "execution_count": 8,
   "metadata": {},
   "outputs": [],
   "source": [
    "# Definition for a binary tree node.\n",
    "class TreeNode(object):\n",
    "    def __init__(self, val=0, left=None, right=None):\n",
    "        self.val = val\n",
    "        self.left = left\n",
    "        self.right = right"
   ]
  },
  {
   "cell_type": "code",
   "execution_count": 32,
   "metadata": {},
   "outputs": [],
   "source": [
    "\n",
    "class Solution(object):\n",
    "    def __init__(self, val=0, left=None, right=None):\n",
    "        self.val = val\n",
    "        self.left = left\n",
    "        self.right = right\n",
    "    def getLonelyNodes(self, root: TreeNode) :\n",
    "        if root is None: \n",
    "            return \n",
    "        res=[]\n",
    "        def findit(node:TreeNode):\n",
    "            if(node.left is not None):\n",
    "                if (node.right is  None):\n",
    "                    res.append(node.left.val) \n",
    "                findit(node.left)\n",
    "            \n",
    "            if(node.right is not None):\n",
    "                if (node.left is None):\n",
    "                    res.append(node.right.val)\n",
    "                findit(node.right)\n",
    "        findit(root)    \n",
    "        return res    "
   ]
  },
  {
   "cell_type": "code",
   "execution_count": 33,
   "metadata": {},
   "outputs": [],
   "source": [
    "tree=Solution(1)\n",
    "tree.left=TreeNode(2)\n",
    "tree.right=TreeNode(4)\n",
    "\n",
    "tree.left.right=TreeNode(3)\n"
   ]
  },
  {
   "cell_type": "code",
   "execution_count": 34,
   "metadata": {},
   "outputs": [
    {
     "data": {
      "text/plain": [
       "[3]"
      ]
     },
     "execution_count": 34,
     "metadata": {},
     "output_type": "execute_result"
    }
   ],
   "source": [
    "tree.getLonelyNodes(tree)"
   ]
  },
  {
   "cell_type": "code",
   "execution_count": null,
   "metadata": {},
   "outputs": [],
   "source": []
  }
 ],
 "metadata": {
  "kernelspec": {
   "display_name": "Python 3",
   "language": "python",
   "name": "python3"
  },
  "language_info": {
   "codemirror_mode": {
    "name": "ipython",
    "version": 3
   },
   "file_extension": ".py",
   "mimetype": "text/x-python",
   "name": "python",
   "nbconvert_exporter": "python",
   "pygments_lexer": "ipython3",
   "version": "3.8.5"
  }
 },
 "nbformat": 4,
 "nbformat_minor": 4
}
